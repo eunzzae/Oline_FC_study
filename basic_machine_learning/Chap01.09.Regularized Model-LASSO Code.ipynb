{
 "cells": [
  {
   "cell_type": "markdown",
   "id": "b4c134d9",
   "metadata": {},
   "source": [
    "# **09.Regularized Model-LASSO Code 실습**\n",
    "\n",
    "[목적]\n",
    "  1. LASSO\n",
    "    - Regularized Linear Model을 활용하여 Overfitting을 방지함\n",
    "    - Hyperparameter lamba를 튜닝할 때 for loop 뿐만 아니라 GridsearchCV를 통해 돌출해봄\n",
    "  3. Regularized Linear Models의 경우 X's Scaling을 필수적으로 진행해야함\n",
    "\n",
    "[Process]\n",
    "  1. Define X's & Y\n",
    "  2. Split Train & Valid dataset\n",
    "  3. Modeling\n",
    "  4. Model 해석"
   ]
  },
  {
   "cell_type": "code",
   "execution_count": 1,
   "id": "89e6da00",
   "metadata": {},
   "outputs": [],
   "source": [
    "# Package\n",
    "import numpy as np\n",
    "import pandas as pd\n",
    "from sklearn.model_selection import train_test_split\n",
    "from sklearn.linear_model import Lasso, LassoCV\n",
    "from sklearn.model_selection import GridSearchCV\n",
    "from sklearn.preprocessing import MinMaxScaler\n",
    "from sklearn.metrics import mean_squared_error\n",
    "\n",
    "import warnings\n",
    "warnings.filterwarnings(\"ignore\")\n",
    "\n",
    "# Sklearn Toy Data\n",
    "from sklearn.datasets import load_diabetes"
   ]
  },
  {
   "cell_type": "code",
   "execution_count": 2,
   "id": "ab544e97",
   "metadata": {},
   "outputs": [],
   "source": [
    "# Data Loading (당뇨병)\n",
    "data = pd.read_csv('https://www4.stat.ncsu.edu/~boos/var.select/diabetes.tab.txt', sep='\\t')"
   ]
  },
  {
   "cell_type": "code",
   "execution_count": 3,
   "id": "9d361021",
   "metadata": {},
   "outputs": [],
   "source": [
    "# X's & Y Split\n",
    "Y = data['Y']\n",
    "X = data.drop(columns=['Y'])\n",
    "X = pd.get_dummies(X, columns=['SEX'])"
   ]
  },
  {
   "cell_type": "code",
   "execution_count": null,
   "id": "e407272c",
   "metadata": {},
   "outputs": [],
   "source": []
  }
 ],
 "metadata": {
  "kernelspec": {
   "display_name": "Python 3 (ipykernel)",
   "language": "python",
   "name": "python3"
  },
  "language_info": {
   "codemirror_mode": {
    "name": "ipython",
    "version": 3
   },
   "file_extension": ".py",
   "mimetype": "text/x-python",
   "name": "python",
   "nbconvert_exporter": "python",
   "pygments_lexer": "ipython3",
   "version": "3.10.9"
  }
 },
 "nbformat": 4,
 "nbformat_minor": 5
}
