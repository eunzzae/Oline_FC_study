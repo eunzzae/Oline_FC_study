{
 "cells": [
  {
   "cell_type": "markdown",
   "metadata": {
    "id": "Ykupk0pjdS5w"
   },
   "source": [
    "## Ch07. 마트 데이터로 피벗된 데이터를 언피벗하기"
   ]
  },
  {
   "cell_type": "markdown",
   "metadata": {
    "id": "5HZm3axIdjCR"
   },
   "source": [
    "### 1. 인덱스를 다루는 다양한 함수들"
   ]
  },
  {
   "cell_type": "code",
   "execution_count": 19,
   "metadata": {
    "id": "pMZzjQG6dcCQ"
   },
   "outputs": [],
   "source": [
    "# 실습 준비 코드\n",
    "import pandas as pd\n",
    "data = [['송중기', 70, 'A'],  ['강승주', 80, 'A'], \n",
    "        ['김판다', 93, 'B'], ['이예준', 92, 'B']]\n",
    "df1 = pd.DataFrame(data, columns=['이름', '점수', '반'])\n",
    "df2 = df1.set_index('이름').copy()"
   ]
  },
  {
   "cell_type": "markdown",
   "metadata": {
    "id": "L0st0EfUfxHX"
   },
   "source": [
    "> pandas set_index\n",
    "\n",
    "index를 설정하는 함수(columns에는 적용되지 않는다)\n",
    "\n",
    "<img src=https://i.ibb.co/ZzBFFHB/07-01-01.png, width=600>\n",
    "\n",
    "\n",
    "**keys** (열의 레이블 또는 배열)\n",
    "\n",
    "index로 설정될 대상\n",
    "\n",
    "**drop** (인수는 bool / 기본 값은 True)\n",
    "\n",
    "index로 설정한 열을 데이터터 프레임에서는 삭제할지 여부를 결정하는 인자\n",
    "\n",
    "**append** (인수는 bool / 기본 값은 False)\n",
    "\n",
    "기존 index에 추가할지 지정하는 인자\n",
    "\n",
    "<br><br> \n",
    "\n",
    "set_index 함수 설명 : https://kimpanda.tistory.com/94\n",
    "\n",
    "set_index 판다스 공식문서 : https://pandas.pydata.org/docs/reference/api/pandas.DataFrame.set_index.html\n",
    "\n",
    " "
   ]
  },
  {
   "cell_type": "code",
   "execution_count": 8,
   "metadata": {
    "colab": {
     "base_uri": "https://localhost:8080/",
     "height": 175
    },
    "id": "txy_7-FDgpBr",
    "outputId": "524efa3a-f173-4ec1-ed96-7004b93e994c"
   },
   "outputs": [
    {
     "data": {
      "text/html": [
       "<div>\n",
       "<style scoped>\n",
       "    .dataframe tbody tr th:only-of-type {\n",
       "        vertical-align: middle;\n",
       "    }\n",
       "\n",
       "    .dataframe tbody tr th {\n",
       "        vertical-align: top;\n",
       "    }\n",
       "\n",
       "    .dataframe thead th {\n",
       "        text-align: right;\n",
       "    }\n",
       "</style>\n",
       "<table border=\"1\" class=\"dataframe\">\n",
       "  <thead>\n",
       "    <tr style=\"text-align: right;\">\n",
       "      <th></th>\n",
       "      <th>이름</th>\n",
       "      <th>점수</th>\n",
       "      <th>반</th>\n",
       "    </tr>\n",
       "  </thead>\n",
       "  <tbody>\n",
       "    <tr>\n",
       "      <th>0</th>\n",
       "      <td>송중기</td>\n",
       "      <td>70</td>\n",
       "      <td>A</td>\n",
       "    </tr>\n",
       "    <tr>\n",
       "      <th>1</th>\n",
       "      <td>강승주</td>\n",
       "      <td>80</td>\n",
       "      <td>A</td>\n",
       "    </tr>\n",
       "    <tr>\n",
       "      <th>2</th>\n",
       "      <td>김판다</td>\n",
       "      <td>93</td>\n",
       "      <td>B</td>\n",
       "    </tr>\n",
       "    <tr>\n",
       "      <th>3</th>\n",
       "      <td>이예준</td>\n",
       "      <td>92</td>\n",
       "      <td>B</td>\n",
       "    </tr>\n",
       "  </tbody>\n",
       "</table>\n",
       "</div>"
      ],
      "text/plain": [
       "    이름  점수  반\n",
       "0  송중기  70  A\n",
       "1  강승주  80  A\n",
       "2  김판다  93  B\n",
       "3  이예준  92  B"
      ]
     },
     "execution_count": 8,
     "metadata": {},
     "output_type": "execute_result"
    }
   ],
   "source": [
    "# 실습에 쓰일 df1 출력\n",
    "df1"
   ]
  },
  {
   "cell_type": "code",
   "execution_count": 16,
   "metadata": {
    "colab": {
     "base_uri": "https://localhost:8080/",
     "height": 206
    },
    "id": "WN3Tdf0xgtD3",
    "outputId": "5c4d2a46-f1d3-476f-aeb6-4a676b375c80"
   },
   "outputs": [
    {
     "data": {
      "text/html": [
       "<div>\n",
       "<style scoped>\n",
       "    .dataframe tbody tr th:only-of-type {\n",
       "        vertical-align: middle;\n",
       "    }\n",
       "\n",
       "    .dataframe tbody tr th {\n",
       "        vertical-align: top;\n",
       "    }\n",
       "\n",
       "    .dataframe thead th {\n",
       "        text-align: right;\n",
       "    }\n",
       "</style>\n",
       "<table border=\"1\" class=\"dataframe\">\n",
       "  <thead>\n",
       "    <tr style=\"text-align: right;\">\n",
       "      <th></th>\n",
       "      <th>점수</th>\n",
       "      <th>반</th>\n",
       "    </tr>\n",
       "    <tr>\n",
       "      <th>이름</th>\n",
       "      <th></th>\n",
       "      <th></th>\n",
       "    </tr>\n",
       "  </thead>\n",
       "  <tbody>\n",
       "    <tr>\n",
       "      <th>송중기</th>\n",
       "      <td>70</td>\n",
       "      <td>A</td>\n",
       "    </tr>\n",
       "    <tr>\n",
       "      <th>강승주</th>\n",
       "      <td>80</td>\n",
       "      <td>A</td>\n",
       "    </tr>\n",
       "    <tr>\n",
       "      <th>김판다</th>\n",
       "      <td>93</td>\n",
       "      <td>B</td>\n",
       "    </tr>\n",
       "    <tr>\n",
       "      <th>이예준</th>\n",
       "      <td>92</td>\n",
       "      <td>B</td>\n",
       "    </tr>\n",
       "  </tbody>\n",
       "</table>\n",
       "</div>"
      ],
      "text/plain": [
       "     점수  반\n",
       "이름        \n",
       "송중기  70  A\n",
       "강승주  80  A\n",
       "김판다  93  B\n",
       "이예준  92  B"
      ]
     },
     "execution_count": 16,
     "metadata": {},
     "output_type": "execute_result"
    }
   ],
   "source": [
    "# 이름열을 index로 만들자\n",
    "df1.set_index('이름')"
   ]
  },
  {
   "cell_type": "code",
   "execution_count": 10,
   "metadata": {
    "colab": {
     "base_uri": "https://localhost:8080/",
     "height": 206
    },
    "id": "KMjj4J4hg11f",
    "outputId": "761a4a6f-b786-4503-fdcd-88d1caf9d8a7"
   },
   "outputs": [
    {
     "data": {
      "text/html": [
       "<div>\n",
       "<style scoped>\n",
       "    .dataframe tbody tr th:only-of-type {\n",
       "        vertical-align: middle;\n",
       "    }\n",
       "\n",
       "    .dataframe tbody tr th {\n",
       "        vertical-align: top;\n",
       "    }\n",
       "\n",
       "    .dataframe thead th {\n",
       "        text-align: right;\n",
       "    }\n",
       "</style>\n",
       "<table border=\"1\" class=\"dataframe\">\n",
       "  <thead>\n",
       "    <tr style=\"text-align: right;\">\n",
       "      <th></th>\n",
       "      <th></th>\n",
       "      <th>점수</th>\n",
       "    </tr>\n",
       "    <tr>\n",
       "      <th>반</th>\n",
       "      <th>이름</th>\n",
       "      <th></th>\n",
       "    </tr>\n",
       "  </thead>\n",
       "  <tbody>\n",
       "    <tr>\n",
       "      <th rowspan=\"2\" valign=\"top\">A</th>\n",
       "      <th>송중기</th>\n",
       "      <td>70</td>\n",
       "    </tr>\n",
       "    <tr>\n",
       "      <th>강승주</th>\n",
       "      <td>80</td>\n",
       "    </tr>\n",
       "    <tr>\n",
       "      <th rowspan=\"2\" valign=\"top\">B</th>\n",
       "      <th>김판다</th>\n",
       "      <td>93</td>\n",
       "    </tr>\n",
       "    <tr>\n",
       "      <th>이예준</th>\n",
       "      <td>92</td>\n",
       "    </tr>\n",
       "  </tbody>\n",
       "</table>\n",
       "</div>"
      ],
      "text/plain": [
       "       점수\n",
       "반 이름     \n",
       "A 송중기  70\n",
       "  강승주  80\n",
       "B 김판다  93\n",
       "  이예준  92"
      ]
     },
     "execution_count": 10,
     "metadata": {},
     "output_type": "execute_result"
    }
   ],
   "source": [
    "# 반과 이름을 복수로 index로 만들자(멀티 인덱스)\n",
    "df1.set_index(['반', '이름'])"
   ]
  },
  {
   "cell_type": "code",
   "execution_count": 11,
   "metadata": {
    "colab": {
     "base_uri": "https://localhost:8080/",
     "height": 206
    },
    "id": "ZvLvQ-idg-iR",
    "outputId": "4474db22-8f90-4b84-f543-91316c8b0214"
   },
   "outputs": [
    {
     "data": {
      "text/html": [
       "<div>\n",
       "<style scoped>\n",
       "    .dataframe tbody tr th:only-of-type {\n",
       "        vertical-align: middle;\n",
       "    }\n",
       "\n",
       "    .dataframe tbody tr th {\n",
       "        vertical-align: top;\n",
       "    }\n",
       "\n",
       "    .dataframe thead th {\n",
       "        text-align: right;\n",
       "    }\n",
       "</style>\n",
       "<table border=\"1\" class=\"dataframe\">\n",
       "  <thead>\n",
       "    <tr style=\"text-align: right;\">\n",
       "      <th></th>\n",
       "      <th></th>\n",
       "      <th>점수</th>\n",
       "      <th>반</th>\n",
       "    </tr>\n",
       "    <tr>\n",
       "      <th></th>\n",
       "      <th>이름</th>\n",
       "      <th></th>\n",
       "      <th></th>\n",
       "    </tr>\n",
       "  </thead>\n",
       "  <tbody>\n",
       "    <tr>\n",
       "      <th>0</th>\n",
       "      <th>송중기</th>\n",
       "      <td>70</td>\n",
       "      <td>A</td>\n",
       "    </tr>\n",
       "    <tr>\n",
       "      <th>1</th>\n",
       "      <th>강승주</th>\n",
       "      <td>80</td>\n",
       "      <td>A</td>\n",
       "    </tr>\n",
       "    <tr>\n",
       "      <th>2</th>\n",
       "      <th>김판다</th>\n",
       "      <td>93</td>\n",
       "      <td>B</td>\n",
       "    </tr>\n",
       "    <tr>\n",
       "      <th>3</th>\n",
       "      <th>이예준</th>\n",
       "      <td>92</td>\n",
       "      <td>B</td>\n",
       "    </tr>\n",
       "  </tbody>\n",
       "</table>\n",
       "</div>"
      ],
      "text/plain": [
       "       점수  반\n",
       "  이름        \n",
       "0 송중기  70  A\n",
       "1 강승주  80  A\n",
       "2 김판다  93  B\n",
       "3 이예준  92  B"
      ]
     },
     "execution_count": 11,
     "metadata": {},
     "output_type": "execute_result"
    }
   ],
   "source": [
    "# 기존 index에 추가로 이름열을 index로 만들자(append 인자)\n",
    "df1.set_index('이름', append=True)"
   ]
  },
  {
   "cell_type": "markdown",
   "metadata": {
    "id": "7Rj9ImpnhUg5"
   },
   "source": [
    "> pandas reset_index\n",
    "\n",
    "기존 index를 index에서 제거하는 함수\n",
    "\n",
    "index에서만 제거하고 데이터 프레임의 열로 만들 수도 있고 그냥 제거도 가능하다\n",
    "\n",
    "모든 index가 제거되어 index가 없다면 새로운 RangeIndex가 생성된다\n",
    "\n",
    " \n",
    "\n",
    " <img src=https://i.ibb.co/X7zJ8HZ/07-01-02.png, width=600>\n",
    "\n",
    " \n",
    "\n",
    "**level** (인덱스의 레벨 / 로케이션 혹은 레이블 모두 가능하다 / 기본값은 모든 레벨)\n",
    "\n",
    "멀티 인덱스에서 리셋할 인덱스의 레벨을 결정한다\n",
    "\n",
    " \n",
    "\n",
    "**drop** (인수는 bool / 기본값은 False)\n",
    "\n",
    "index에서만 삭제하고 데이터는 데이터프레임의 열로 만들 것인지\n",
    "\n",
    "열로도 만들지 않고 데이터를 삭제할 것인지 지정하는 인자.\n",
    "\n",
    "기본값은 열로 만든다 (drop 하지 않는다)\n",
    "\n",
    "\n",
    " <br><br>\n",
    " \n",
    "reset_index 함수 설명 : https://kimpanda.tistory.com/95\n",
    "\n",
    "reset_index 판다스 공식문서 : https://pandas.pydata.org/docs/reference/api/pandas.DataFrame.reset_index.html\n"
   ]
  },
  {
   "cell_type": "code",
   "execution_count": 20,
   "metadata": {
    "colab": {
     "base_uri": "https://localhost:8080/",
     "height": 206
    },
    "id": "pqJboSEiiAoW",
    "outputId": "b83eb9ce-833d-4271-e9d9-40274551333f"
   },
   "outputs": [
    {
     "data": {
      "text/html": [
       "<div>\n",
       "<style scoped>\n",
       "    .dataframe tbody tr th:only-of-type {\n",
       "        vertical-align: middle;\n",
       "    }\n",
       "\n",
       "    .dataframe tbody tr th {\n",
       "        vertical-align: top;\n",
       "    }\n",
       "\n",
       "    .dataframe thead th {\n",
       "        text-align: right;\n",
       "    }\n",
       "</style>\n",
       "<table border=\"1\" class=\"dataframe\">\n",
       "  <thead>\n",
       "    <tr style=\"text-align: right;\">\n",
       "      <th></th>\n",
       "      <th>점수</th>\n",
       "      <th>반</th>\n",
       "    </tr>\n",
       "    <tr>\n",
       "      <th>이름</th>\n",
       "      <th></th>\n",
       "      <th></th>\n",
       "    </tr>\n",
       "  </thead>\n",
       "  <tbody>\n",
       "    <tr>\n",
       "      <th>송중기</th>\n",
       "      <td>70</td>\n",
       "      <td>A</td>\n",
       "    </tr>\n",
       "    <tr>\n",
       "      <th>강승주</th>\n",
       "      <td>80</td>\n",
       "      <td>A</td>\n",
       "    </tr>\n",
       "    <tr>\n",
       "      <th>김판다</th>\n",
       "      <td>93</td>\n",
       "      <td>B</td>\n",
       "    </tr>\n",
       "    <tr>\n",
       "      <th>이예준</th>\n",
       "      <td>92</td>\n",
       "      <td>B</td>\n",
       "    </tr>\n",
       "  </tbody>\n",
       "</table>\n",
       "</div>"
      ],
      "text/plain": [
       "     점수  반\n",
       "이름        \n",
       "송중기  70  A\n",
       "강승주  80  A\n",
       "김판다  93  B\n",
       "이예준  92  B"
      ]
     },
     "execution_count": 20,
     "metadata": {},
     "output_type": "execute_result"
    }
   ],
   "source": [
    "# 실습에 쓰일 df2 출력\n",
    "df2"
   ]
  },
  {
   "cell_type": "code",
   "execution_count": 18,
   "metadata": {
    "colab": {
     "base_uri": "https://localhost:8080/",
     "height": 175
    },
    "id": "6Mzjx7dHiEUX",
    "outputId": "867d5caa-0f26-4d9e-c92b-135269dccd03"
   },
   "outputs": [
    {
     "ename": "AttributeError",
     "evalue": "'function' object has no attribute 'reset_index'",
     "output_type": "error",
     "traceback": [
      "\u001b[1;31m---------------------------------------------------------------------------\u001b[0m",
      "\u001b[1;31mAttributeError\u001b[0m                            Traceback (most recent call last)",
      "Cell \u001b[1;32mIn[18], line 2\u001b[0m\n\u001b[0;32m      1\u001b[0m \u001b[38;5;66;03m# df2의 index를 열로 만들자 \u001b[39;00m\n\u001b[1;32m----> 2\u001b[0m \u001b[43mdf2\u001b[49m\u001b[38;5;241;43m.\u001b[39;49m\u001b[43mreset_index\u001b[49m()\n",
      "\u001b[1;31mAttributeError\u001b[0m: 'function' object has no attribute 'reset_index'"
     ]
    }
   ],
   "source": [
    "# df2의 index를 열로 만들자 \n",
    "df2.reset_index()"
   ]
  },
  {
   "cell_type": "code",
   "execution_count": null,
   "metadata": {
    "colab": {
     "base_uri": "https://localhost:8080/",
     "height": 175
    },
    "id": "0TqhRKpsiLl3",
    "outputId": "3f74af51-1b1d-432e-e226-77cc73d44a88"
   },
   "outputs": [],
   "source": [
    "# df2의 index를 삭제하고 새로운 RangeIndex를 부여하자 \n",
    "df2.reset_index(drop=True)"
   ]
  },
  {
   "cell_type": "code",
   "execution_count": null,
   "metadata": {
    "colab": {
     "base_uri": "https://localhost:8080/",
     "height": 112
    },
    "id": "FMFdsoj1iSYc",
    "outputId": "c5197932-689c-4ace-b067-2d4ea112ec19"
   },
   "outputs": [],
   "source": [
    "# 필터링 후 새로운 RangeIndex를 부여할 때 사용하면 된다\n",
    "df1[df1['점수'] > 90].reset_index(drop=True)"
   ]
  },
  {
   "cell_type": "markdown",
   "metadata": {
    "id": "FMSUq5GIivZB"
   },
   "source": [
    "> pandas set_axis\n",
    "\n",
    "주어진 축에 원하는 인덱스를 할당하는 함수\n",
    "\n",
    "df.index 나 df.columns에 원하는 인덱스를 배정하는 것과 동일하나 함수이기 때문에 원본을 덮어쓰지 않는다\n",
    "\n",
    "\n",
    "<img src=https://i.ibb.co/m6sS6nR/07-01-03.png, width=600>\n",
    "\n",
    "\n",
    "\n",
    "**labels** (배열이나 인덱스)\n",
    "\n",
    "새로운 인덱스로 만들고 싶은 데이터\n",
    "\n",
    " \n",
    "\n",
    "**axis** (0 or 1 / 기본값은 0)\n",
    "\n",
    "index를 바꿀 것인지 columns를 바꿀 것인지 지정하는 인자. 기본값은 0이고 index를 할당한다\n",
    "\n",
    "\n",
    "<br><br>\n",
    " \n",
    "set_axis 함수 설명 : https://kimpanda.tistory.com/96\n",
    "\n",
    "set_axis 판다스 공식 문서 https://pandas.pydata.org/docs/reference/api/pandas.DataFrame.set_axis.html"
   ]
  },
  {
   "cell_type": "code",
   "execution_count": null,
   "metadata": {
    "colab": {
     "base_uri": "https://localhost:8080/",
     "height": 175
    },
    "id": "j6dCWsY5jcoD",
    "outputId": "a5b02562-2fec-44a1-db29-0835d5165213"
   },
   "outputs": [],
   "source": [
    "# df1의 columns를 영어로 바꿔보자\n",
    "df1.set_axis(['name', 'score', 'class'], axis=1)"
   ]
  },
  {
   "cell_type": "code",
   "execution_count": null,
   "metadata": {
    "colab": {
     "base_uri": "https://localhost:8080/",
     "height": 175
    },
    "id": "wl-yOWvIjwB5",
    "outputId": "9ab6c484-d586-4fca-fc4b-4ff1a303e847"
   },
   "outputs": [],
   "source": [
    "# 배정의 방식으로 사용해보자 df1을 복제한 df로 실습하자\n",
    "df = df1.copy()\n",
    "df.columns = ['name', 'score', 'class']\n",
    "df"
   ]
  },
  {
   "cell_type": "markdown",
   "metadata": {
    "id": "Le7GeDglj59Z"
   },
   "source": [
    "df.columns 에 배열을 배정한 것과 같은 결과이지만 set_axis는 함수이기에 원본을 덮어쓰지 않는다"
   ]
  },
  {
   "cell_type": "markdown",
   "metadata": {
    "id": "VJmPRj49ljOX"
   },
   "source": [
    "> pandas rename\n",
    "\n",
    "이전에 배운 rename도 인덱스를 다루는 함수이다\n",
    "\n",
    "rename 함수 설명 : https://kimpanda.tistory.com/73"
   ]
  },
  {
   "cell_type": "code",
   "execution_count": null,
   "metadata": {
    "colab": {
     "base_uri": "https://localhost:8080/",
     "height": 175
    },
    "id": "RJq8hy9Ck5io",
    "outputId": "8d89950c-29e8-4252-e015-4fb80ae7adde"
   },
   "outputs": [],
   "source": [
    "# rename으로 이름을 바꿀 때도 lambda 함수를 사용할 수 있다\n",
    "df1.rename(columns=lambda x: '1학년 ' + x)"
   ]
  },
  {
   "cell_type": "markdown",
   "metadata": {
    "id": "G77lBWQhj_VI"
   },
   "source": [
    "> pandas reindex\n",
    "\n",
    "인덱스를 재 배열하여 데이터를 재배열하는 함수\n",
    "\n",
    "<img src=https://i.ibb.co/WyBxPhk/07-01-04.png, width=600>\n",
    "\n",
    "\n",
    "**labels** (배열이나 인덱스)\n",
    "\n",
    "재배열할 새로운 인덱스를 할당한다. 축지정 인자인 axis와 함께 쓰인다\n",
    "\n",
    " \n",
    "\n",
    "**index** (배열이나 인덱스)\n",
    "\n",
    "labels 인자에 입력해서 축을 지정함에 따라 index나 columns가 재배열되지만\n",
    "\n",
    "index를 재배열하고 싶을 때 labels 인자 대신 index인자를 사용해도 된다\n",
    "\n",
    " \n",
    "\n",
    "**columns** (배열이나 인덱스)\n",
    "\n",
    "labels 인자에 입력해서 축을 지정함에 따라 index나 columns가 재배열되지만\n",
    "\n",
    "columns를 재배열하고 싶을 때 labels 인자 대신 columns인자를 사용해도 된다\n",
    "\n",
    " \n",
    "\n",
    "**axis** (0 or 1/ 기본값은 0)\n",
    "\n",
    "축을 지정하는 인자. 기본값은 0이고 index를 재배열한다\n",
    "\n",
    " \n",
    "<br><br>\n",
    " \n",
    "reindex 함수 설명 : https://kimpanda.tistory.com/97\n",
    "\n",
    "reindex 판다스 공식 문서 : https://pandas.pydata.org/docs/reference/api/pandas.DataFrame.reindex.html"
   ]
  },
  {
   "cell_type": "code",
   "execution_count": null,
   "metadata": {
    "colab": {
     "base_uri": "https://localhost:8080/",
     "height": 175
    },
    "id": "VCS8sVItj4zO",
    "outputId": "45342d17-0517-489c-c9d5-57bfc7ed82a5"
   },
   "outputs": [],
   "source": [
    "# df1의 columns 순서를 이름 반 점수로 바꿔보자\n",
    "df1.reindex(['이름', '반', '점수'], axis=1)"
   ]
  },
  {
   "cell_type": "code",
   "execution_count": null,
   "metadata": {
    "colab": {
     "base_uri": "https://localhost:8080/",
     "height": 175
    },
    "id": "TNloBdHPk8xE",
    "outputId": "a114f552-a7c9-4720-9f0d-e2d431fdd065"
   },
   "outputs": [],
   "source": [
    "# 인덱싱과의 차이는 무엇일까?\n",
    "df1[['이름', '반', '점수']]"
   ]
  },
  {
   "cell_type": "code",
   "execution_count": null,
   "metadata": {
    "colab": {
     "base_uri": "https://localhost:8080/",
     "height": 175
    },
    "id": "EBF9XCEelFVf",
    "outputId": "6199ec26-9347-4a3c-bf21-285115559b97"
   },
   "outputs": [],
   "source": [
    "# reindex는 인덱싱과는 달리 기존에 존재하지 않는 레이블도 배열이 가능(값은 NaN)\n",
    "df1.reindex(['이름', '반', '성별'], axis=1)"
   ]
  },
  {
   "cell_type": "code",
   "execution_count": null,
   "metadata": {
    "colab": {
     "base_uri": "https://localhost:8080/",
     "height": 175
    },
    "id": "5qp_OzOlkzf6",
    "outputId": "0c4d3a47-8fde-4be1-da6c-d7db61730255"
   },
   "outputs": [],
   "source": [
    "# df1의 columns 순서를 이름 반 점수로 바꿔보자 (columns 인자 사용)\n",
    "df1.reindex(columns=['이름', '반', '점수'])"
   ]
  },
  {
   "cell_type": "code",
   "execution_count": null,
   "metadata": {
    "colab": {
     "base_uri": "https://localhost:8080/",
     "height": 175
    },
    "id": "-m_9zR0rlThX",
    "outputId": "1376aceb-62df-4bdc-902f-b60303975127"
   },
   "outputs": [],
   "source": [
    "# index와 columns 모두의 순서를 재배열하고 싶을 때 index와 columns 인자를 사용\n",
    "df1.reindex(index=[1, 1, 3, 0], columns=['이름', '반', '점수'])"
   ]
  },
  {
   "cell_type": "markdown",
   "metadata": {
    "id": "jVrRwhqEpvDj"
   },
   "source": [
    "- index와 columns 다루는 함수들 참고강의 : https://youtu.be/sKtMAVnpHHs"
   ]
  },
  {
   "cell_type": "markdown",
   "metadata": {
    "id": "IyfRlVySp0AG"
   },
   "source": [
    "## 2. 언피벗(unpivot)을 하는 이유"
   ]
  },
  {
   "cell_type": "markdown",
   "metadata": {
    "id": "YFiWFtG9GSX5"
   },
   "source": [
    "원시 데이터(raw data)\n",
    "\n",
    "- 데이터를 쌓고 관리하기 쉽다 \n",
    "- 데이터의 의미 파악이 어렵다\n",
    "\n",
    "피벗 테이블(pivot table)\n",
    "\n",
    "- 데이터 의미 파악이 쉽다 \n",
    "- 데이터를 쌓고 관리하기 어렵다\n",
    "\n",
    "→ 그래서 raw data로 관리하고 피벗테이블로 요약해야한다 \n",
    "\n",
    "그런데 실무에서는 피벗테이블로 데이터를 관리하는 경우가 많다\n",
    "\n",
    "<br><br>\n",
    "\n",
    "<img src=https://i.ibb.co/mT7h4kw/07-02-03.png, width=600>\n",
    "\n",
    "피벗 테이블로 데이터를 관리하면 새로운 피벗테이블 만드는 것이 어렵다\n",
    "\n",
    "위 예시는 단순한 구조라서 그나마 가능하지만 복잡한 피벗테이블을 다른 복잡한 피벗테이블로 전환하는 것은 정말 쉽지 않다\n",
    "\n",
    "<br><br>\n",
    "\n",
    "<img src=https://i.ibb.co/3C81CMZ/07-02-04.png, width=600>\n",
    "\n",
    "그래서 **unpivot**이 필요하다  \n",
    "\n",
    "unpivot한 데이터인 가운데 데이터프레임을 우측을 만드는 것은 `pivot_table` 함수로 간단히 가능하다\n",
    "\n"
   ]
  },
  {
   "cell_type": "markdown",
   "metadata": {
    "id": "nS_GiWTSqYUj"
   },
   "source": [
    "## 3. stack으로 언피벗하기"
   ]
  },
  {
   "cell_type": "markdown",
   "metadata": {
    "id": "_tDSJ2kIgj23"
   },
   "source": [
    "**판다스에서 unpivot 하는 두가지 방법**\n",
    "1. stack 함수와 다른 함수들을 함께 사용하는 방법\n",
    "\n",
    " →  stack은 그 자체로 유용한 함수라 unpivot을 위해 함수를 추가적으로 익히지 않아도 된다\n",
    "\n",
    "2. melt 함수로 하는 방법\n",
    "\n",
    " →  melt는 unpivot 전용 함수라 편리하다"
   ]
  },
  {
   "cell_type": "markdown",
   "metadata": {
    "id": "z5FbfwAtICIc"
   },
   "source": [
    "**stack & unstack**\n",
    "\n",
    "인덱스의 구조를 바꾸는 함수\n",
    "\n",
    "stack은 columns를 index로 보내고 unstack은 index를 columns로 보낸다\n",
    "\n",
    "<img src=https://i.ibb.co/xLG08Q0/07-02-01.png, width=600> \n",
    "\n",
    "> pandas stack\n",
    "\n",
    "**level** (level의 레이블 혹은 로케이션, 또는 그것들의 리스트 / 기본값은  -1)\n",
    "\n",
    "columns로 보낼 index의 level을 지정하는 인자. 기본값은 -1이라서 맨 마지막 index를 보낸다\n",
    "\n",
    " \n",
    "\n",
    "**dropna** (인수는 bool / 기본값은 True)\n",
    "\n",
    "값이 NaN인 행은 생성하지 않고 삭제하는 인자. 기본값은 True\n",
    "\n",
    "<br><br>\n",
    "\n",
    "\n",
    "> pandas unstack\n",
    "\n",
    " \n",
    "\n",
    "**level** (level의 레이블 혹은 로케이션, 또는 그것들의 리스트 / 기본값은  -1)\n",
    "\n",
    "index로 보낼 columns의 level을 지정하는 인자. 기본값은 -1이라서 맨 마지막 index를 보낸다\n",
    "\n",
    "\n",
    "**fill_value** \n",
    "\n",
    "NaN을 대체할 값을 지정하는 인자\n",
    "\n",
    "<br><br>\n",
    "\n",
    "stack과 unstack 함수 설명 : https://kimpanda.tistory.com/98\n",
    "\n",
    "\n",
    "stack 판다스 공식문서 : https://pandas.pydata.org/docs/reference/api/pandas.DataFrame.stack.html\n",
    "\n",
    "\n",
    "unstack 판다스 공식문서 : https://pandas.pydata.org/docs/reference/api/pandas.DataFrame.unstack.html\n",
    " "
   ]
  },
  {
   "cell_type": "code",
   "execution_count": null,
   "metadata": {
    "id": "hlZpNkgsG9Ix"
   },
   "outputs": [],
   "source": [
    "# 실습 준비 코드\n",
    "import pandas as pd\n",
    "data1 = [[10, 20, 30, 40], [15, 25, 35, 45]]\n",
    "data2 = [[10, 30], [20, 40], [15, 35]]\n",
    "col1 = pd.MultiIndex.from_product([['남', '여'], ['A반', 'B반']])\n",
    "df1 = pd.DataFrame(data1, index=['1학년', '2학년'], columns=col1)\n",
    "df2 = pd.DataFrame(data2, index=list('ABC'), columns=['남', '여'])"
   ]
  },
  {
   "cell_type": "markdown",
   "metadata": {
    "id": "810qCpKDli4L"
   },
   "source": [
    "**stack 실습하기**"
   ]
  },
  {
   "cell_type": "code",
   "execution_count": null,
   "metadata": {
    "colab": {
     "base_uri": "https://localhost:8080/",
     "height": 143
    },
    "id": "O2v6aFQdlmoh",
    "outputId": "96efeb6f-e1be-4db9-a5f9-09315973c845"
   },
   "outputs": [],
   "source": [
    "# 실습에 쓰일 df1\n",
    "df1"
   ]
  },
  {
   "cell_type": "code",
   "execution_count": null,
   "metadata": {
    "colab": {
     "base_uri": "https://localhost:8080/",
     "height": 175
    },
    "id": "LGnujPCMHJMb",
    "outputId": "dc566738-8a3b-43d0-c126-b21d913e3c15"
   },
   "outputs": [],
   "source": [
    "# stack으로 df1의 구조 바꾸기\n",
    "df1.stack()"
   ]
  },
  {
   "cell_type": "code",
   "execution_count": null,
   "metadata": {
    "colab": {
     "base_uri": "https://localhost:8080/",
     "height": 175
    },
    "id": "lez5NFn2HltX",
    "outputId": "ae73bf7c-deba-4ed9-a2a4-09dd1710fc0e"
   },
   "outputs": [],
   "source": [
    "# stack으로 level을 지정해 df1의 구조 바꾸기\n",
    "df1.stack(0)"
   ]
  },
  {
   "cell_type": "code",
   "execution_count": null,
   "metadata": {
    "colab": {
     "base_uri": "https://localhost:8080/"
    },
    "id": "i_3Z1VFcHyEb",
    "outputId": "52cc6643-ef4e-4c42-bef6-de1b5ef5eda3"
   },
   "outputs": [],
   "source": [
    "# stack으로 level을 복수로 지정하기\n",
    "df1.stack([0, 1])"
   ]
  },
  {
   "cell_type": "markdown",
   "metadata": {
    "id": "38YwVuVyPyJG"
   },
   "source": [
    "**stack + reset_index로 unpivot하기**\n",
    "\n",
    "<img src=https://i.ibb.co/8jZ66ZX/07-03-01.png, width=600>"
   ]
  },
  {
   "cell_type": "code",
   "execution_count": null,
   "metadata": {
    "colab": {
     "base_uri": "https://localhost:8080/",
     "height": 143
    },
    "id": "V-bCoWbllup-",
    "outputId": "7382a08e-85c0-4860-8afb-b04ffa779aeb"
   },
   "outputs": [],
   "source": [
    "# 실습에 쓰일 df2\n",
    "df2"
   ]
  },
  {
   "cell_type": "code",
   "execution_count": null,
   "metadata": {
    "colab": {
     "base_uri": "https://localhost:8080/",
     "height": 238
    },
    "id": "mrRZ3VV3HeXB",
    "outputId": "dba3bada-fe9f-4184-b16d-eb2f4d5bcd02"
   },
   "outputs": [],
   "source": [
    "# df2를 stack으로 unpivot 하기\n",
    "df2.stack().reset_index()"
   ]
  },
  {
   "cell_type": "code",
   "execution_count": null,
   "metadata": {
    "colab": {
     "base_uri": "https://localhost:8080/",
     "height": 238
    },
    "id": "nolFNG9tH6oL",
    "outputId": "52a5c4e2-f1db-47b9-cf2d-be0563ad578b"
   },
   "outputs": [],
   "source": [
    "# df2를 stack으로 unpivot 하고 열이름 지정하기\n",
    "df2.stack().reset_index().set_axis(['반', '성별', '인원수'], axis=1)"
   ]
  },
  {
   "cell_type": "markdown",
   "metadata": {
    "id": "AF6oIhO7qYgw"
   },
   "source": [
    "## 4. melt로 언피벗하기"
   ]
  },
  {
   "cell_type": "markdown",
   "metadata": {
    "id": "9_3Br3kEVhbr"
   },
   "source": [
    "> pandas melt\n",
    "\n",
    "데이터 프레임을 unpivot 하는 함수\n",
    "\n",
    " \n",
    "\n",
    "<img src=https://i.ibb.co/hR80hbP/07-02-02.png, width=600> \n",
    " \n",
    "\n",
    "**id_vars** (열의 레이블 혹은 그것들의 리스트)\n",
    "\n",
    "index처럼 unpivot 하지 않을 열을 지정하는 인자\n",
    "\n",
    " \n",
    "\n",
    "**value_vars** (열의 레이블 혹은 그것들의 리스트)\n",
    "\n",
    "unpivot할 열을 지정하는 인자\n",
    "\n",
    "기본값으로 id_vars로 지정되지 않은 모든 열을 value_vars로 지정해 unpivot한다\n",
    " \n",
    "\n",
    "**var_name** (scalar)\n",
    "\n",
    "unpivot 후 ‘variable’ 열의 레이블을 지정하는 인자\n",
    "\n",
    " \n",
    "\n",
    "**value_name** (scalar/ 기본값은 ‘value’)\n",
    "\n",
    "unpivot 후 ‘value’ 열의 레이블을 지정하는 인자\n",
    "\n",
    " \n",
    "<br><br>\n",
    " \n",
    "\n",
    "melt 함수 설명 : https://kimpanda.tistory.com/99 \n",
    "\n",
    "melt 공식 문서 링크 : https://pandas.pydata.org/docs/reference/api/pandas.melt.html"
   ]
  },
  {
   "cell_type": "code",
   "execution_count": null,
   "metadata": {
    "colab": {
     "base_uri": "https://localhost:8080/",
     "height": 143
    },
    "id": "E0BQSJ6CqZ46",
    "outputId": "86134e79-572d-406e-b8b1-fd6240515ce6"
   },
   "outputs": [],
   "source": [
    "# 실습 준비 코드\n",
    "import pandas as pd\n",
    "data = [['A', 10, 30], ['B', 20, 40], ['C', 15, 35]]\n",
    "df = pd.DataFrame(data, columns=['반', '남', '여'])\n",
    "df"
   ]
  },
  {
   "cell_type": "code",
   "execution_count": null,
   "metadata": {
    "colab": {
     "base_uri": "https://localhost:8080/",
     "height": 238
    },
    "id": "dxj0LnkjqfKO",
    "outputId": "1b5e296f-819f-4f46-dfca-946981dc4bfa"
   },
   "outputs": [],
   "source": [
    "# melt로 언피벗\n",
    "df.melt('반')"
   ]
  },
  {
   "cell_type": "code",
   "execution_count": null,
   "metadata": {
    "colab": {
     "base_uri": "https://localhost:8080/",
     "height": 238
    },
    "id": "7GOzA6wQqiQo",
    "outputId": "7d060578-5cf5-4ba9-85eb-ec8084054be9"
   },
   "outputs": [],
   "source": [
    "# 언피벗 후 열 이름 바꾸기 (함수이용)\n",
    "df.melt('반').set_axis(['반', '성별', '인원수'], axis=1)"
   ]
  },
  {
   "cell_type": "code",
   "execution_count": null,
   "metadata": {
    "colab": {
     "base_uri": "https://localhost:8080/",
     "height": 238
    },
    "id": "-KwWtnpWqu_E",
    "outputId": "2722accb-317b-4918-fac4-0d030ec0195f"
   },
   "outputs": [],
   "source": [
    "# 언피벗 후 열 이름 바꾸기 (melt의 인자 이용)\n",
    "df.melt('반', var_name='성별', value_name='인원수')"
   ]
  },
  {
   "cell_type": "markdown",
   "metadata": {
    "id": "4xHFHQytp9sH"
   },
   "source": [
    "## 5. 마트 매출 데이터 언피벗해서 집계하기"
   ]
  },
  {
   "cell_type": "markdown",
   "metadata": {
    "id": "JXblWsIOw-wa"
   },
   "source": [
    "피벗테이블로 관리된 마트 매출데이터를 unpivot 하여 취합한 뒤 각종 새로운 피벗테이블을 만들어보자\n",
    "\n",
    "실습을 위해 **엑셀 파일의 다운로드**가 필요하다"
   ]
  },
  {
   "cell_type": "code",
   "execution_count": null,
   "metadata": {
    "id": "p0b_opHsTUGk"
   },
   "outputs": [],
   "source": [
    "import pandas as pd\n",
    "pd.options.display.max_rows = 6 # 판다스 버전업에 따라 6행 출력의 바뀐 코드\n",
    "url = '/content/Ch07_unpivot.xlsx'"
   ]
  },
  {
   "cell_type": "code",
   "execution_count": null,
   "metadata": {
    "colab": {
     "base_uri": "https://localhost:8080/",
     "height": 298
    },
    "id": "4Sm9TAbUxUxt",
    "outputId": "90ee7205-2242-4934-a682-14ca5adb7ab5"
   },
   "outputs": [],
   "source": [
    "# 연도별 매출데이터가 담긴 3개의 시트를 unpivot한 뒤 취합한다\n",
    "years = ['2020년', '2021년', '2022년']\n",
    "df_ex1 = pd.DataFrame() # for문을 위해 빈 데이터 프레임 선언\n",
    "for i in years:\n",
    "  df = pd.read_excel(url, sheet_name=i)\n",
    "  df = df.melt('제품', var_name='지점', value_name='매출')\n",
    "  df['연도'] = i # 연도 데이터가 없으니 열만들기\n",
    "  df_ex1 = pd.concat([df_ex1, df])\n",
    "df_ex1"
   ]
  },
  {
   "cell_type": "code",
   "execution_count": null,
   "metadata": {
    "colab": {
     "base_uri": "https://localhost:8080/",
     "height": 298
    },
    "id": "8BpVfMLXQOAN",
    "outputId": "4fa5b25b-0042-4947-9a83-90d2c27521e5"
   },
   "outputs": [],
   "source": [
    "# 지점구분과 제품구분 시트의 특성을 merge\n",
    "df_m1 = pd.read_excel(url, sheet_name=3)\n",
    "df_m2 = pd.read_excel(url, sheet_name=4)\n",
    "df_ex2 = df_ex1.merge(df_m1, how='left').merge(df_m2, how='left')\n",
    "df_ex2"
   ]
  },
  {
   "cell_type": "code",
   "execution_count": null,
   "metadata": {
    "colab": {
     "base_uri": "https://localhost:8080/",
     "height": 175
    },
    "id": "Bf--QEmqIjEg",
    "outputId": "c155f723-ba07-4ea8-9d2a-5a9cd96e7b10"
   },
   "outputs": [],
   "source": [
    "# 연도와 지역별 매출합 (억단위)\n",
    "(df_ex2\n",
    " .pivot_table('매출', index='연도', columns='지역', aggfunc='sum')\n",
    " .div(100000000) # div는 나눗셈 연산의 함수형태\n",
    " .round(1)) # round는 반올림 하는 함수"
   ]
  },
  {
   "cell_type": "markdown",
   "metadata": {
    "id": "crFbBMF_QNA9"
   },
   "source": [
    "그래프를 그리고 싶지만 plot 함수로 그리면 한글이 깨진다\n",
    "\n",
    "물론 [링크](https://kimpanda.tistory.com/93)를 참조해 한글이 적용되도록 할 수도 있다\n",
    "\n",
    "\n",
    "\n",
    "\n",
    "그것보다 이번에는 한글이 적용되는 plotly 기반으로 plot 함수를 그려보겠다"
   ]
  },
  {
   "cell_type": "code",
   "execution_count": null,
   "metadata": {
    "id": "YlXF_LrvvKyc"
   },
   "outputs": [],
   "source": [
    "# 판다스 plot의 기반 라이브러리를 plotly로 지정한다\n",
    "pd.options.plotting.backend = 'plotly'"
   ]
  },
  {
   "cell_type": "code",
   "execution_count": null,
   "metadata": {
    "colab": {
     "base_uri": "https://localhost:8080/",
     "height": 417
    },
    "id": "6T_QYuNJVEki",
    "outputId": "c60301f0-5e9d-4d90-f308-92f4e2e43a43"
   },
   "outputs": [],
   "source": [
    "# 연도와 지역별 매출합 (억단위) 그래프\n",
    "(df_ex2\n",
    " .pivot_table('매출', index='연도', columns='지역', aggfunc='sum')\n",
    " .div(100000000)\n",
    " .round(1)\n",
    " .plot(kind='bar', labels={'value':'매출(억)'}, barmode='group', \n",
    "       height=400, width=600))"
   ]
  },
  {
   "cell_type": "code",
   "execution_count": null,
   "metadata": {
    "colab": {
     "base_uri": "https://localhost:8080/",
     "height": 175
    },
    "id": "JBy4XT52PV8N",
    "outputId": "cf314571-9efc-40d8-921a-9dd50b2a2448"
   },
   "outputs": [],
   "source": [
    "# 지역별 / 직영점과 비직영점의 매출합 (억단위)\n",
    "(df_ex2\n",
    " .pivot_table('매출', index='지역', columns='분류', aggfunc='sum')\n",
    " .div(100000000)\n",
    " .round(1)\n",
    ")"
   ]
  },
  {
   "cell_type": "code",
   "execution_count": null,
   "metadata": {
    "colab": {
     "base_uri": "https://localhost:8080/",
     "height": 417
    },
    "id": "5rHb4pm6S1Ki",
    "outputId": "9798df5b-ba5e-456b-f080-38d4c7662921"
   },
   "outputs": [],
   "source": [
    "# 지역별와 직영점과 비직영점의 매출합 (억단위) 그래프\n",
    "(df_ex2\n",
    " .pivot_table('매출', index='지역', columns='분류', aggfunc='sum')\n",
    " .div(100000000)\n",
    " .round(1)\n",
    " .plot(kind='bar', labels={'value':'매출(억)'}, barmode='group', \n",
    "       height=400, width=600))"
   ]
  },
  {
   "cell_type": "code",
   "execution_count": null,
   "metadata": {
    "colab": {
     "base_uri": "https://localhost:8080/",
     "height": 238
    },
    "id": "7i_0mnlpSoxO",
    "outputId": "ca76dc7c-d57d-4912-ee80-2260714cfe8f"
   },
   "outputs": [],
   "source": [
    "# 연도별 제품분류별(구분열)로 매출합 (억단위)\n",
    "(df_ex2\n",
    " .pivot_table('매출', index='구분', columns='연도', aggfunc='sum')\n",
    " .div(100000000).round(1))"
   ]
  },
  {
   "cell_type": "code",
   "execution_count": null,
   "metadata": {
    "colab": {
     "base_uri": "https://localhost:8080/",
     "height": 417
    },
    "id": "X2xkYI-HTKSa",
    "outputId": "79c893e2-a137-462b-cc34-8f66bc4592dc"
   },
   "outputs": [],
   "source": [
    "# 연도별 제품분류별(구분열)로 매출합 (억단위) 그래프 - 기타는 제외\n",
    "(df_ex2[df_ex2['구분'] != '기타']\n",
    " .pivot_table('매출', index='구분', columns='연도', aggfunc='sum')\n",
    " .div(100000000).round(1)\n",
    " .plot(kind='bar', labels={'value':'매출(억)'}, barmode='group', \n",
    "       height=400, width=600))"
   ]
  },
  {
   "cell_type": "markdown",
   "metadata": {
    "id": "KaPJz2UP3Q4u"
   },
   "source": [
    "plotly beckend로 그래프를 그릴 때 인자(parameter)는 아래 웹페이지를 참고하라\n",
    "\n",
    "https://plotly.com/python-api-reference/generated/plotly.express.bar\n",
    "\n",
    "<br><br>\n",
    "\n",
    "plotly tutorial 웹페이지 : https://plotly.com/python/\n",
    "\n",
    "<br><br>\n",
    "\n",
    "**ploty color palette**\n",
    "\n",
    "<img src=https://i.ibb.co/0tZRV3w/07-05-01.png, width=600>"
   ]
  },
  {
   "cell_type": "code",
   "execution_count": null,
   "metadata": {
    "colab": {
     "base_uri": "https://localhost:8080/",
     "height": 417
    },
    "id": "qWgMjuqC2boH",
    "outputId": "ccee3879-8c79-41da-f225-4be210272698"
   },
   "outputs": [],
   "source": [
    "# plotly에서 색상 바꾸기\n",
    "import plotly.express as px\n",
    "(df_ex2\n",
    " .pivot_table('매출', index='연도', columns='지역', aggfunc='sum')\n",
    " .div(100000000)\n",
    " .plot(\n",
    "     kind='bar', \n",
    "     color_discrete_sequence=px.colors.qualitative.Set2, # 색깔 바꾸는 인자\n",
    "     labels={'value':'매출(억)'}, \n",
    "     barmode='group', \n",
    "     height=400, \n",
    "     width=600\n",
    "     )\n",
    " )"
   ]
  },
  {
   "cell_type": "markdown",
   "metadata": {
    "id": "FLNgWDG_UzSc"
   },
   "source": [
    "판다스가 좀 더 익숙해지면 아래와 같은 코드로 unpivot후 concat한 df_ex1을 얻는 것이 훨씬 간편하다"
   ]
  },
  {
   "cell_type": "code",
   "execution_count": null,
   "metadata": {
    "colab": {
     "base_uri": "https://localhost:8080/",
     "height": 298
    },
    "id": "VCBrez3FTzzZ",
    "outputId": "1673ff79-252f-493f-c96a-0b7848343f94"
   },
   "outputs": [],
   "source": [
    "# df_ex1을 얻는 효율적인 코드\n",
    "import pandas as pd\n",
    "url = '/content/Ch07_unpivot.xlsx'\n",
    "dfs = pd.read_excel(url, sheet_name=None)\n",
    "pd.concat([df.melt('제품', var_name='지점', value_name='매출').assign(연도=name) \n",
    "              for name, df in list(dfs.items())[:3]])"
   ]
  }
 ],
 "metadata": {
  "colab": {
   "provenance": []
  },
  "kernelspec": {
   "display_name": "Python 3 (ipykernel)",
   "language": "python",
   "name": "python3"
  },
  "language_info": {
   "codemirror_mode": {
    "name": "ipython",
    "version": 3
   },
   "file_extension": ".py",
   "mimetype": "text/x-python",
   "name": "python",
   "nbconvert_exporter": "python",
   "pygments_lexer": "ipython3",
   "version": "3.10.9"
  }
 },
 "nbformat": 4,
 "nbformat_minor": 1
}
