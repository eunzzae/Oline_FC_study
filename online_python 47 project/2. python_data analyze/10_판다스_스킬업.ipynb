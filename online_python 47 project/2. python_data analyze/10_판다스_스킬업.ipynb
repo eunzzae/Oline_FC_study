{
 "cells": [
  {
   "cell_type": "markdown",
   "metadata": {
    "id": "VHlmArJOzjOa"
   },
   "source": [
    "# Ch10. 판다스 스킬업"
   ]
  },
  {
   "cell_type": "markdown",
   "metadata": {
    "id": "3Xs13ixPz_DE"
   },
   "source": [
    "## 1. groupby 스킬업"
   ]
  },
  {
   "cell_type": "markdown",
   "metadata": {
    "id": "gr-IWCkEzz9X"
   },
   "source": [
    "`groupby`로 집계함수를 적용하면 다음과 같은 결과를 얻는다\n",
    "\n",
    "<img src=https://i.ibb.co/hRFtSTb/groupby.jpg, width=600>\n",
    "\n",
    "\n",
    "그런데 왜 `pivot_table`을 두고 `groupby`로 집계함수를 적용하는 것일까?\n",
    "- 실제로는 `groupby`로 집계를 하는 경우가 더 많다\n",
    "- `groupby`는 `agg`와 `transfrom` 등과 결합해 보다 유용한 집계를 할 수 있다"
   ]
  },
  {
   "cell_type": "code",
   "execution_count": 2,
   "metadata": {
    "colab": {
     "base_uri": "https://localhost:8080/",
     "height": 238
    },
    "id": "HyUDE4MvzeaV",
    "outputId": "fc52090d-7029-4fb5-91b0-5d9c5351eb6b"
   },
   "outputs": [
    {
     "data": {
      "text/html": [
       "<div>\n",
       "<style scoped>\n",
       "    .dataframe tbody tr th:only-of-type {\n",
       "        vertical-align: middle;\n",
       "    }\n",
       "\n",
       "    .dataframe tbody tr th {\n",
       "        vertical-align: top;\n",
       "    }\n",
       "\n",
       "    .dataframe thead th {\n",
       "        text-align: right;\n",
       "    }\n",
       "</style>\n",
       "<table border=\"1\" class=\"dataframe\">\n",
       "  <thead>\n",
       "    <tr style=\"text-align: right;\">\n",
       "      <th></th>\n",
       "      <th>이름</th>\n",
       "      <th>반</th>\n",
       "      <th>성별</th>\n",
       "      <th>국어</th>\n",
       "      <th>수학</th>\n",
       "    </tr>\n",
       "  </thead>\n",
       "  <tbody>\n",
       "    <tr>\n",
       "      <th>0</th>\n",
       "      <td>김판다</td>\n",
       "      <td>A</td>\n",
       "      <td>남</td>\n",
       "      <td>95</td>\n",
       "      <td>77</td>\n",
       "    </tr>\n",
       "    <tr>\n",
       "      <th>1</th>\n",
       "      <td>송중기</td>\n",
       "      <td>B</td>\n",
       "      <td>남</td>\n",
       "      <td>93</td>\n",
       "      <td>92</td>\n",
       "    </tr>\n",
       "    <tr>\n",
       "      <th>2</th>\n",
       "      <td>김나현</td>\n",
       "      <td>B</td>\n",
       "      <td>여</td>\n",
       "      <td>88</td>\n",
       "      <td>60</td>\n",
       "    </tr>\n",
       "    <tr>\n",
       "      <th>3</th>\n",
       "      <td>박효신</td>\n",
       "      <td>A</td>\n",
       "      <td>남</td>\n",
       "      <td>85</td>\n",
       "      <td>83</td>\n",
       "    </tr>\n",
       "    <tr>\n",
       "      <th>4</th>\n",
       "      <td>강승주</td>\n",
       "      <td>B</td>\n",
       "      <td>여</td>\n",
       "      <td>78</td>\n",
       "      <td>92</td>\n",
       "    </tr>\n",
       "    <tr>\n",
       "      <th>5</th>\n",
       "      <td>권보아</td>\n",
       "      <td>A</td>\n",
       "      <td>여</td>\n",
       "      <td>72</td>\n",
       "      <td>75</td>\n",
       "    </tr>\n",
       "  </tbody>\n",
       "</table>\n",
       "</div>"
      ],
      "text/plain": [
       "    이름  반 성별  국어  수학\n",
       "0  김판다  A  남  95  77\n",
       "1  송중기  B  남  93  92\n",
       "2  김나현  B  여  88  60\n",
       "3  박효신  A  남  85  83\n",
       "4  강승주  B  여  78  92\n",
       "5  권보아  A  여  72  75"
      ]
     },
     "execution_count": 2,
     "metadata": {},
     "output_type": "execute_result"
    }
   ],
   "source": [
    "# 실습 준비 코드\n",
    "import pandas as pd\n",
    "pd.options.display.float_format = '{:.2f}'.format # 소수점 출력옵션\n",
    "data = [['김판다', 'A', '남', 95, 77], ['송중기', 'B', '남', 93, 92], \n",
    "        ['김나현', 'B', '여', 88, 60], ['박효신', 'A', '남', 85, 83], \n",
    "        ['강승주', 'B', '여', 78, 92], ['권보아', 'A', '여', 72, 75]]\n",
    "df = pd.DataFrame(data, columns=['이름', '반', '성별', '국어', '수학'])\n",
    "df"
   ]
  },
  {
   "cell_type": "markdown",
   "metadata": {
    "id": "91k8twsPPhjl"
   },
   "source": [
    "**groupby 스킬업1**\n",
    "\n",
    "복수의 열에 `groupby`를 적용하자"
   ]
  },
  {
   "cell_type": "code",
   "execution_count": 3,
   "metadata": {
    "colab": {
     "base_uri": "https://localhost:8080/",
     "height": 206
    },
    "id": "NVE1y_Wkzrcu",
    "outputId": "e29cb163-8b9b-43c6-95f4-aaaea151b560"
   },
   "outputs": [
    {
     "data": {
      "text/html": [
       "<div>\n",
       "<style scoped>\n",
       "    .dataframe tbody tr th:only-of-type {\n",
       "        vertical-align: middle;\n",
       "    }\n",
       "\n",
       "    .dataframe tbody tr th {\n",
       "        vertical-align: top;\n",
       "    }\n",
       "\n",
       "    .dataframe thead th {\n",
       "        text-align: right;\n",
       "    }\n",
       "</style>\n",
       "<table border=\"1\" class=\"dataframe\">\n",
       "  <thead>\n",
       "    <tr style=\"text-align: right;\">\n",
       "      <th></th>\n",
       "      <th></th>\n",
       "      <th>국어</th>\n",
       "      <th>수학</th>\n",
       "    </tr>\n",
       "    <tr>\n",
       "      <th>반</th>\n",
       "      <th>성별</th>\n",
       "      <th></th>\n",
       "      <th></th>\n",
       "    </tr>\n",
       "  </thead>\n",
       "  <tbody>\n",
       "    <tr>\n",
       "      <th rowspan=\"2\" valign=\"top\">A</th>\n",
       "      <th>남</th>\n",
       "      <td>90.00</td>\n",
       "      <td>80.00</td>\n",
       "    </tr>\n",
       "    <tr>\n",
       "      <th>여</th>\n",
       "      <td>72.00</td>\n",
       "      <td>75.00</td>\n",
       "    </tr>\n",
       "    <tr>\n",
       "      <th rowspan=\"2\" valign=\"top\">B</th>\n",
       "      <th>남</th>\n",
       "      <td>93.00</td>\n",
       "      <td>92.00</td>\n",
       "    </tr>\n",
       "    <tr>\n",
       "      <th>여</th>\n",
       "      <td>83.00</td>\n",
       "      <td>76.00</td>\n",
       "    </tr>\n",
       "  </tbody>\n",
       "</table>\n",
       "</div>"
      ],
      "text/plain": [
       "        국어    수학\n",
       "반 성별            \n",
       "A 남  90.00 80.00\n",
       "  여  72.00 75.00\n",
       "B 남  93.00 92.00\n",
       "  여  83.00 76.00"
      ]
     },
     "execution_count": 3,
     "metadata": {},
     "output_type": "execute_result"
    }
   ],
   "source": [
    "# data도 복수로 지정이 가능하다 (사실 data는 대괄호 인덱싱)\n",
    "df.groupby(['반', '성별'])[['국어', '수학']].mean()"
   ]
  },
  {
   "cell_type": "code",
   "execution_count": 4,
   "metadata": {
    "colab": {
     "base_uri": "https://localhost:8080/",
     "height": 206
    },
    "id": "aeOm70f3zm-a",
    "outputId": "0ae51d85-b8e0-4dd3-e84a-022d38afede5"
   },
   "outputs": [
    {
     "name": "stderr",
     "output_type": "stream",
     "text": [
      "C:\\Users\\dmsco\\AppData\\Local\\Temp\\ipykernel_26400\\1432667990.py:2: FutureWarning: The default value of numeric_only in DataFrameGroupBy.mean is deprecated. In a future version, numeric_only will default to False. Either specify numeric_only or select only columns which should be valid for the function.\n",
      "  df.groupby(['반', '성별']).mean()\n"
     ]
    },
    {
     "data": {
      "text/html": [
       "<div>\n",
       "<style scoped>\n",
       "    .dataframe tbody tr th:only-of-type {\n",
       "        vertical-align: middle;\n",
       "    }\n",
       "\n",
       "    .dataframe tbody tr th {\n",
       "        vertical-align: top;\n",
       "    }\n",
       "\n",
       "    .dataframe thead th {\n",
       "        text-align: right;\n",
       "    }\n",
       "</style>\n",
       "<table border=\"1\" class=\"dataframe\">\n",
       "  <thead>\n",
       "    <tr style=\"text-align: right;\">\n",
       "      <th></th>\n",
       "      <th></th>\n",
       "      <th>국어</th>\n",
       "      <th>수학</th>\n",
       "    </tr>\n",
       "    <tr>\n",
       "      <th>반</th>\n",
       "      <th>성별</th>\n",
       "      <th></th>\n",
       "      <th></th>\n",
       "    </tr>\n",
       "  </thead>\n",
       "  <tbody>\n",
       "    <tr>\n",
       "      <th rowspan=\"2\" valign=\"top\">A</th>\n",
       "      <th>남</th>\n",
       "      <td>90.00</td>\n",
       "      <td>80.00</td>\n",
       "    </tr>\n",
       "    <tr>\n",
       "      <th>여</th>\n",
       "      <td>72.00</td>\n",
       "      <td>75.00</td>\n",
       "    </tr>\n",
       "    <tr>\n",
       "      <th rowspan=\"2\" valign=\"top\">B</th>\n",
       "      <th>남</th>\n",
       "      <td>93.00</td>\n",
       "      <td>92.00</td>\n",
       "    </tr>\n",
       "    <tr>\n",
       "      <th>여</th>\n",
       "      <td>83.00</td>\n",
       "      <td>76.00</td>\n",
       "    </tr>\n",
       "  </tbody>\n",
       "</table>\n",
       "</div>"
      ],
      "text/plain": [
       "        국어    수학\n",
       "반 성별            \n",
       "A 남  90.00 80.00\n",
       "  여  72.00 75.00\n",
       "B 남  93.00 92.00\n",
       "  여  83.00 76.00"
      ]
     },
     "execution_count": 4,
     "metadata": {},
     "output_type": "execute_result"
    }
   ],
   "source": [
    "# 인덱싱을 하지 않으면 전체에 적용한다 (단 by에 지정된 열은 제외)\n",
    "df.groupby(['반', '성별']).mean()"
   ]
  },
  {
   "cell_type": "markdown",
   "metadata": {
    "id": "5wza0KkWPv8T"
   },
   "source": []
  },
  {
   "cell_type": "markdown",
   "metadata": {
    "id": "uu4LxhlK9iz-"
   },
   "source": [
    "**groupby 스킬업2**\n",
    "\n",
    "`groupby`로 집계함수를 사용하면 `agg`와 함께 집계함수를 사용가능하다 \n",
    "\n",
    "**agg의 장점**\n",
    "\n",
    "1. `agg` 와 리스트를 이용하면 튜플로 집계결과의 열이름을 바꿀 수 있다\n",
    "\n",
    "2. 복수의 집계함수 사용가능\n",
    "\n",
    "3. 열마다 다른 집계함수 사용가능\n",
    "\n",
    "4. lambda 함수 사용가능\n",
    "\n",
    "1은 `set_axis`등으로 손쉽게 가능하고 2, 4는 `pivot_table`로도 가능하므로 실질적 장점은 3이다"
   ]
  },
  {
   "cell_type": "code",
   "execution_count": 5,
   "metadata": {
    "colab": {
     "base_uri": "https://localhost:8080/",
     "height": 143
    },
    "id": "ireSuwF5FRrF",
    "outputId": "a4bf44d9-2688-4106-bacd-1f10e2f044d3"
   },
   "outputs": [
    {
     "data": {
      "text/html": [
       "<div>\n",
       "<style scoped>\n",
       "    .dataframe tbody tr th:only-of-type {\n",
       "        vertical-align: middle;\n",
       "    }\n",
       "\n",
       "    .dataframe tbody tr th {\n",
       "        vertical-align: top;\n",
       "    }\n",
       "\n",
       "    .dataframe thead th {\n",
       "        text-align: right;\n",
       "    }\n",
       "</style>\n",
       "<table border=\"1\" class=\"dataframe\">\n",
       "  <thead>\n",
       "    <tr style=\"text-align: right;\">\n",
       "      <th></th>\n",
       "      <th>국어평균</th>\n",
       "    </tr>\n",
       "    <tr>\n",
       "      <th>반</th>\n",
       "      <th></th>\n",
       "    </tr>\n",
       "  </thead>\n",
       "  <tbody>\n",
       "    <tr>\n",
       "      <th>A</th>\n",
       "      <td>84.00</td>\n",
       "    </tr>\n",
       "    <tr>\n",
       "      <th>B</th>\n",
       "      <td>86.33</td>\n",
       "    </tr>\n",
       "  </tbody>\n",
       "</table>\n",
       "</div>"
      ],
      "text/plain": [
       "   국어평균\n",
       "반      \n",
       "A 84.00\n",
       "B 86.33"
      ]
     },
     "execution_count": 5,
     "metadata": {},
     "output_type": "execute_result"
    }
   ],
   "source": [
    "# 함수를 튜플로 입력해 열 이름을 바꿀 수 있다\n",
    "df.groupby(['반'])['국어'].agg([('국어평균', 'mean')])"
   ]
  },
  {
   "cell_type": "code",
   "execution_count": 6,
   "metadata": {
    "colab": {
     "base_uri": "https://localhost:8080/",
     "height": 143
    },
    "id": "Fvw6p0rZDWuh",
    "outputId": "766ca7a2-315c-45c4-a0be-be5c956a597f"
   },
   "outputs": [
    {
     "data": {
      "text/html": [
       "<div>\n",
       "<style scoped>\n",
       "    .dataframe tbody tr th:only-of-type {\n",
       "        vertical-align: middle;\n",
       "    }\n",
       "\n",
       "    .dataframe tbody tr th {\n",
       "        vertical-align: top;\n",
       "    }\n",
       "\n",
       "    .dataframe thead th {\n",
       "        text-align: right;\n",
       "    }\n",
       "</style>\n",
       "<table border=\"1\" class=\"dataframe\">\n",
       "  <thead>\n",
       "    <tr style=\"text-align: right;\">\n",
       "      <th></th>\n",
       "      <th>mean</th>\n",
       "      <th>std</th>\n",
       "    </tr>\n",
       "    <tr>\n",
       "      <th>반</th>\n",
       "      <th></th>\n",
       "      <th></th>\n",
       "    </tr>\n",
       "  </thead>\n",
       "  <tbody>\n",
       "    <tr>\n",
       "      <th>A</th>\n",
       "      <td>84.00</td>\n",
       "      <td>11.53</td>\n",
       "    </tr>\n",
       "    <tr>\n",
       "      <th>B</th>\n",
       "      <td>86.33</td>\n",
       "      <td>7.64</td>\n",
       "    </tr>\n",
       "  </tbody>\n",
       "</table>\n",
       "</div>"
      ],
      "text/plain": [
       "   mean   std\n",
       "반            \n",
       "A 84.00 11.53\n",
       "B 86.33  7.64"
      ]
     },
     "execution_count": 6,
     "metadata": {},
     "output_type": "execute_result"
    }
   ],
   "source": [
    "# 복수의 집계함수 적용\n",
    "df.groupby(['반'])['국어'].agg(['mean', 'std'])"
   ]
  },
  {
   "cell_type": "code",
   "execution_count": 7,
   "metadata": {
    "colab": {
     "base_uri": "https://localhost:8080/",
     "height": 143
    },
    "id": "n00ubMUiEInj",
    "outputId": "6e84b527-7271-422f-bdca-972e906f668d"
   },
   "outputs": [
    {
     "data": {
      "text/html": [
       "<div>\n",
       "<style scoped>\n",
       "    .dataframe tbody tr th:only-of-type {\n",
       "        vertical-align: middle;\n",
       "    }\n",
       "\n",
       "    .dataframe tbody tr th {\n",
       "        vertical-align: top;\n",
       "    }\n",
       "\n",
       "    .dataframe thead th {\n",
       "        text-align: right;\n",
       "    }\n",
       "</style>\n",
       "<table border=\"1\" class=\"dataframe\">\n",
       "  <thead>\n",
       "    <tr style=\"text-align: right;\">\n",
       "      <th></th>\n",
       "      <th>mean</th>\n",
       "      <th>max</th>\n",
       "    </tr>\n",
       "    <tr>\n",
       "      <th>반</th>\n",
       "      <th></th>\n",
       "      <th></th>\n",
       "    </tr>\n",
       "  </thead>\n",
       "  <tbody>\n",
       "    <tr>\n",
       "      <th>A</th>\n",
       "      <td>84.00</td>\n",
       "      <td>95</td>\n",
       "    </tr>\n",
       "    <tr>\n",
       "      <th>B</th>\n",
       "      <td>86.33</td>\n",
       "      <td>93</td>\n",
       "    </tr>\n",
       "  </tbody>\n",
       "</table>\n",
       "</div>"
      ],
      "text/plain": [
       "   mean  max\n",
       "반           \n",
       "A 84.00   95\n",
       "B 86.33   93"
      ]
     },
     "execution_count": 7,
     "metadata": {},
     "output_type": "execute_result"
    }
   ],
   "source": [
    "# 위 결과는 피벗 테이블로도 가능하다\n",
    "df.pivot_table('국어', index='반', aggfunc=['mean', 'max']).droplevel(1, axis=1)"
   ]
  },
  {
   "cell_type": "code",
   "execution_count": 8,
   "metadata": {
    "colab": {
     "base_uri": "https://localhost:8080/",
     "height": 143
    },
    "id": "7WJiYjeVDpbU",
    "outputId": "4dc8a35f-ddb1-4131-e3fb-fe5c1f1639ba"
   },
   "outputs": [
    {
     "data": {
      "text/html": [
       "<div>\n",
       "<style scoped>\n",
       "    .dataframe tbody tr th:only-of-type {\n",
       "        vertical-align: middle;\n",
       "    }\n",
       "\n",
       "    .dataframe tbody tr th {\n",
       "        vertical-align: top;\n",
       "    }\n",
       "\n",
       "    .dataframe thead th {\n",
       "        text-align: right;\n",
       "    }\n",
       "</style>\n",
       "<table border=\"1\" class=\"dataframe\">\n",
       "  <thead>\n",
       "    <tr style=\"text-align: right;\">\n",
       "      <th></th>\n",
       "      <th>국어평균</th>\n",
       "      <th>표준편차</th>\n",
       "    </tr>\n",
       "    <tr>\n",
       "      <th>반</th>\n",
       "      <th></th>\n",
       "      <th></th>\n",
       "    </tr>\n",
       "  </thead>\n",
       "  <tbody>\n",
       "    <tr>\n",
       "      <th>A</th>\n",
       "      <td>84.00</td>\n",
       "      <td>95</td>\n",
       "    </tr>\n",
       "    <tr>\n",
       "      <th>B</th>\n",
       "      <td>86.33</td>\n",
       "      <td>93</td>\n",
       "    </tr>\n",
       "  </tbody>\n",
       "</table>\n",
       "</div>"
      ],
      "text/plain": [
       "   국어평균  표준편차\n",
       "반            \n",
       "A 84.00    95\n",
       "B 86.33    93"
      ]
     },
     "execution_count": 8,
     "metadata": {},
     "output_type": "execute_result"
    }
   ],
   "source": [
    "# 복수의 집계함수 일 때도 열 이름을 바꿀 수 있다\n",
    "df.groupby(['반'])['국어'].agg([('국어평균', 'mean'), ('표준편차','max')])"
   ]
  },
  {
   "cell_type": "code",
   "execution_count": 9,
   "metadata": {
    "colab": {
     "base_uri": "https://localhost:8080/",
     "height": 143
    },
    "id": "LOOTyADmEBqz",
    "outputId": "9044fb1e-5407-4665-d995-c93869277451"
   },
   "outputs": [
    {
     "data": {
      "text/html": [
       "<div>\n",
       "<style scoped>\n",
       "    .dataframe tbody tr th:only-of-type {\n",
       "        vertical-align: middle;\n",
       "    }\n",
       "\n",
       "    .dataframe tbody tr th {\n",
       "        vertical-align: top;\n",
       "    }\n",
       "\n",
       "    .dataframe thead th {\n",
       "        text-align: right;\n",
       "    }\n",
       "</style>\n",
       "<table border=\"1\" class=\"dataframe\">\n",
       "  <thead>\n",
       "    <tr style=\"text-align: right;\">\n",
       "      <th></th>\n",
       "      <th>국어</th>\n",
       "      <th>수학</th>\n",
       "    </tr>\n",
       "    <tr>\n",
       "      <th>반</th>\n",
       "      <th></th>\n",
       "      <th></th>\n",
       "    </tr>\n",
       "  </thead>\n",
       "  <tbody>\n",
       "    <tr>\n",
       "      <th>A</th>\n",
       "      <td>84.00</td>\n",
       "      <td>3</td>\n",
       "    </tr>\n",
       "    <tr>\n",
       "      <th>B</th>\n",
       "      <td>86.33</td>\n",
       "      <td>3</td>\n",
       "    </tr>\n",
       "  </tbody>\n",
       "</table>\n",
       "</div>"
      ],
      "text/plain": [
       "     국어  수학\n",
       "반          \n",
       "A 84.00   3\n",
       "B 86.33   3"
      ]
     },
     "execution_count": 9,
     "metadata": {},
     "output_type": "execute_result"
    }
   ],
   "source": [
    "# 열마다 다른 집계함수 적용\n",
    "df.groupby(['반']).agg({'국어': 'mean', '수학': 'count'})"
   ]
  },
  {
   "cell_type": "code",
   "execution_count": 10,
   "metadata": {
    "colab": {
     "base_uri": "https://localhost:8080/",
     "height": 0
    },
    "id": "KtUet11AD65D",
    "outputId": "9475906a-d90e-41ec-b514-107b0785ec2c"
   },
   "outputs": [
    {
     "data": {
      "text/plain": [
       "반\n",
       "A    1\n",
       "B    2\n",
       "Name: 수학, dtype: int64"
      ]
     },
     "execution_count": 10,
     "metadata": {},
     "output_type": "execute_result"
    }
   ],
   "source": [
    "# lambda 함수도 사용 가능하다. 반별 수학 점수가 80 이상인 인원수\n",
    "df.groupby(['반'])['수학'].agg(lambda x: (x > 80).sum())"
   ]
  },
  {
   "cell_type": "markdown",
   "metadata": {
    "id": "ktgAEDc2yxQ_"
   },
   "source": [
    "**groupby 스킬업3**\n",
    "\n",
    "- `transform`과 집계함수를 이용해 집계 결과를 열로 만들수 있다\n",
    "\n",
    "-  열로 만들수 있으므로 집계 결과로 불리언 인덱싱도 할 수 있다"
   ]
  },
  {
   "cell_type": "code",
   "execution_count": 11,
   "metadata": {
    "colab": {
     "base_uri": "https://localhost:8080/",
     "height": 0
    },
    "id": "G_j76-Fnyx7G",
    "outputId": "102060f0-e59e-4dfc-9d8d-73ea6881af78"
   },
   "outputs": [
    {
     "data": {
      "text/plain": [
       "0   78.33\n",
       "1   81.33\n",
       "2   81.33\n",
       "3   78.33\n",
       "4   81.33\n",
       "5   78.33\n",
       "Name: 수학, dtype: float64"
      ]
     },
     "execution_count": 11,
     "metadata": {},
     "output_type": "execute_result"
    }
   ],
   "source": [
    "# transform은 집계함수의 적용 결과를 원본 df와 같은 길이의 시리즈로 반환한다\n",
    "df.groupby('반')['수학'].transform('mean')"
   ]
  },
  {
   "cell_type": "code",
   "execution_count": 12,
   "metadata": {
    "colab": {
     "base_uri": "https://localhost:8080/",
     "height": 143
    },
    "id": "_BPV7ONi9xV-",
    "outputId": "696bdcaf-2632-4811-a850-96c0b88baf5a"
   },
   "outputs": [
    {
     "data": {
      "text/html": [
       "<div>\n",
       "<style scoped>\n",
       "    .dataframe tbody tr th:only-of-type {\n",
       "        vertical-align: middle;\n",
       "    }\n",
       "\n",
       "    .dataframe tbody tr th {\n",
       "        vertical-align: top;\n",
       "    }\n",
       "\n",
       "    .dataframe thead th {\n",
       "        text-align: right;\n",
       "    }\n",
       "</style>\n",
       "<table border=\"1\" class=\"dataframe\">\n",
       "  <thead>\n",
       "    <tr style=\"text-align: right;\">\n",
       "      <th></th>\n",
       "      <th>이름</th>\n",
       "      <th>반</th>\n",
       "      <th>성별</th>\n",
       "      <th>국어</th>\n",
       "      <th>수학</th>\n",
       "    </tr>\n",
       "  </thead>\n",
       "  <tbody>\n",
       "    <tr>\n",
       "      <th>1</th>\n",
       "      <td>송중기</td>\n",
       "      <td>B</td>\n",
       "      <td>남</td>\n",
       "      <td>93</td>\n",
       "      <td>92</td>\n",
       "    </tr>\n",
       "    <tr>\n",
       "      <th>3</th>\n",
       "      <td>박효신</td>\n",
       "      <td>A</td>\n",
       "      <td>남</td>\n",
       "      <td>85</td>\n",
       "      <td>83</td>\n",
       "    </tr>\n",
       "    <tr>\n",
       "      <th>4</th>\n",
       "      <td>강승주</td>\n",
       "      <td>B</td>\n",
       "      <td>여</td>\n",
       "      <td>78</td>\n",
       "      <td>92</td>\n",
       "    </tr>\n",
       "  </tbody>\n",
       "</table>\n",
       "</div>"
      ],
      "text/plain": [
       "    이름  반 성별  국어  수학\n",
       "1  송중기  B  남  93  92\n",
       "3  박효신  A  남  85  83\n",
       "4  강승주  B  여  78  92"
      ]
     },
     "execution_count": 12,
     "metadata": {},
     "output_type": "execute_result"
    }
   ],
   "source": [
    "# 반평균보다 점수가 높은 학생들의 데이터만 필터링\n",
    "cond1 = df['수학'] > df.groupby('반')['수학'].transform('mean')\n",
    "df[cond1]"
   ]
  },
  {
   "cell_type": "markdown",
   "metadata": {
    "id": "FD7Bw4DR-CMr"
   },
   "source": [
    "## 2. apply 스킬업"
   ]
  },
  {
   "cell_type": "markdown",
   "metadata": {
    "id": "AdanGkWaTEFx"
   },
   "source": [
    "시리즈에 적용할 때와 데이터프레임에 적용할 때의 apply의 차이\n",
    "\n",
    "<img src=https://i.ibb.co/XsLBD3W/apply.jpg, width=600>\n",
    "\n",
    "\n",
    "apply가 잘 기억 안나는 분들은 링크 참조 : \n",
    "https://kimpanda.tistory.com/86"
   ]
  },
  {
   "cell_type": "code",
   "execution_count": 13,
   "metadata": {
    "colab": {
     "base_uri": "https://localhost:8080/",
     "height": 175
    },
    "id": "5fAprPaLAYfD",
    "outputId": "d307b539-4710-499c-a11c-4ae21ad5d1c8"
   },
   "outputs": [
    {
     "data": {
      "text/html": [
       "<div>\n",
       "<style scoped>\n",
       "    .dataframe tbody tr th:only-of-type {\n",
       "        vertical-align: middle;\n",
       "    }\n",
       "\n",
       "    .dataframe tbody tr th {\n",
       "        vertical-align: top;\n",
       "    }\n",
       "\n",
       "    .dataframe thead th {\n",
       "        text-align: right;\n",
       "    }\n",
       "</style>\n",
       "<table border=\"1\" class=\"dataframe\">\n",
       "  <thead>\n",
       "    <tr style=\"text-align: right;\">\n",
       "      <th></th>\n",
       "      <th>국어</th>\n",
       "      <th>영어</th>\n",
       "      <th>수학</th>\n",
       "    </tr>\n",
       "  </thead>\n",
       "  <tbody>\n",
       "    <tr>\n",
       "      <th>A</th>\n",
       "      <td>82점</td>\n",
       "      <td>81점</td>\n",
       "      <td>77점</td>\n",
       "    </tr>\n",
       "    <tr>\n",
       "      <th>B</th>\n",
       "      <td>91점</td>\n",
       "      <td>95점</td>\n",
       "      <td>83점</td>\n",
       "    </tr>\n",
       "    <tr>\n",
       "      <th>C</th>\n",
       "      <td>78점</td>\n",
       "      <td>72점</td>\n",
       "      <td>88점</td>\n",
       "    </tr>\n",
       "    <tr>\n",
       "      <th>D</th>\n",
       "      <td>82점</td>\n",
       "      <td>87점</td>\n",
       "      <td>72점</td>\n",
       "    </tr>\n",
       "  </tbody>\n",
       "</table>\n",
       "</div>"
      ],
      "text/plain": [
       "    국어   영어   수학\n",
       "A  82점  81점  77점\n",
       "B  91점  95점  83점\n",
       "C  78점  72점  88점\n",
       "D  82점  87점  72점"
      ]
     },
     "execution_count": 13,
     "metadata": {},
     "output_type": "execute_result"
    }
   ],
   "source": [
    "# 실습 준비 코드\n",
    "import pandas as pd\n",
    "data = [['82점', '81점', '77점'], ['91점', '95점', '83점'], \n",
    "         ['78점', '72점', '88점'], ['82점', '87점', '72점']]\n",
    "s1 = pd.Series(['80점', '75점', '77점', '60점'])\n",
    "s2 = pd.Series(['4등', '3등', '1등', '2등'], index=list('ABCD'))\n",
    "s3 = pd.Series(['없음', '사오기', '만원', '2만원'], \n",
    "               index=['1등', '2등', '3등', '4등'])\n",
    "df = pd.DataFrame(data, index=list('ABCD'), columns=['국어', '영어', '수학'])\n",
    "df"
   ]
  },
  {
   "cell_type": "markdown",
   "metadata": {
    "id": "Da78ohaYRfu5"
   },
   "source": [
    "apply와 map의 차이"
   ]
  },
  {
   "cell_type": "code",
   "execution_count": 14,
   "metadata": {
    "colab": {
     "base_uri": "https://localhost:8080/",
     "height": 0
    },
    "id": "jDXZqt6oJ7Di",
    "outputId": "d791a609-5493-45f4-8fb6-4adb1f9d0dd6"
   },
   "outputs": [
    {
     "data": {
      "text/plain": [
       "0    80\n",
       "1    75\n",
       "2    77\n",
       "3    60\n",
       "dtype: int64"
      ]
     },
     "execution_count": 14,
     "metadata": {},
     "output_type": "execute_result"
    }
   ],
   "source": [
    "# 시리즈에 apply 적용하기\n",
    "s1.apply(lambda x: int(x[:-1]))"
   ]
  },
  {
   "cell_type": "code",
   "execution_count": 15,
   "metadata": {
    "colab": {
     "base_uri": "https://localhost:8080/",
     "height": 0
    },
    "id": "0F_vygwYJ-jC",
    "outputId": "3dac63dc-2f32-4dd4-b499-61822cd8a5f5"
   },
   "outputs": [
    {
     "data": {
      "text/plain": [
       "0    80\n",
       "1    75\n",
       "2    77\n",
       "3    60\n",
       "dtype: int64"
      ]
     },
     "execution_count": 15,
     "metadata": {},
     "output_type": "execute_result"
    }
   ],
   "source": [
    "# map 함수는 시리즈에 적용할 때 apply와 유사하다\n",
    "s1.map(lambda x: int(x[:-1]))"
   ]
  },
  {
   "cell_type": "code",
   "execution_count": 16,
   "metadata": {
    "colab": {
     "base_uri": "https://localhost:8080/",
     "height": 0
    },
    "id": "vMqebExfC6CJ",
    "outputId": "af36e8e5-12ee-4aa9-b105-aeef8e307416"
   },
   "outputs": [
    {
     "name": "stdout",
     "output_type": "stream",
     "text": [
      "A    4등\n",
      "B    3등\n",
      "C    1등\n",
      "D    2등\n",
      "dtype: object\n",
      "1등     없음\n",
      "2등    사오기\n",
      "3등     만원\n",
      "4등    2만원\n",
      "dtype: object\n"
     ]
    }
   ],
   "source": [
    "# apply와 map의 차이점을 알기 위해 s2와 s3를 이용하자\n",
    "print(s2)\n",
    "print(s3)"
   ]
  },
  {
   "cell_type": "code",
   "execution_count": 17,
   "metadata": {
    "colab": {
     "base_uri": "https://localhost:8080/",
     "height": 0
    },
    "id": "fpEv3DeIKEHe",
    "outputId": "f29a205e-11f4-405e-9bda-629e13092b96"
   },
   "outputs": [
    {
     "data": {
      "text/plain": [
       "A    2만원\n",
       "B     만원\n",
       "C     없음\n",
       "D    사오기\n",
       "dtype: object"
      ]
     },
     "execution_count": 17,
     "metadata": {},
     "output_type": "execute_result"
    }
   ],
   "source": [
    "# map 함수는 함수대신 맵퍼를 입력받을 수 있다\n",
    "s2.map(s3)"
   ]
  },
  {
   "cell_type": "code",
   "execution_count": 18,
   "metadata": {
    "colab": {
     "base_uri": "https://localhost:8080/",
     "height": 0
    },
    "id": "nmP5fhBjKVSZ",
    "outputId": "234cf9e4-ef38-42a4-a85d-5c03007cb711"
   },
   "outputs": [
    {
     "data": {
      "text/plain": [
       "A    2만원\n",
       "B     만원\n",
       "C     없음\n",
       "D    사오기\n",
       "dtype: object"
      ]
     },
     "execution_count": 18,
     "metadata": {},
     "output_type": "execute_result"
    }
   ],
   "source": [
    "# apply는 맵퍼를 입력받지 못하지만 lambda 함수로 유사한 기능 가능\n",
    "s2.apply(lambda x: s3[x])"
   ]
  },
  {
   "cell_type": "markdown",
   "metadata": {
    "id": "aHiguL29Rjv2"
   },
   "source": [
    "apply와 applymap의 차이"
   ]
  },
  {
   "cell_type": "code",
   "execution_count": 19,
   "metadata": {
    "colab": {
     "base_uri": "https://localhost:8080/",
     "height": 175
    },
    "id": "ZIwAuRA2Kapk",
    "outputId": "861b8538-7b67-4df0-d5db-7aeb7060f3f6"
   },
   "outputs": [
    {
     "data": {
      "text/html": [
       "<div>\n",
       "<style scoped>\n",
       "    .dataframe tbody tr th:only-of-type {\n",
       "        vertical-align: middle;\n",
       "    }\n",
       "\n",
       "    .dataframe tbody tr th {\n",
       "        vertical-align: top;\n",
       "    }\n",
       "\n",
       "    .dataframe thead th {\n",
       "        text-align: right;\n",
       "    }\n",
       "</style>\n",
       "<table border=\"1\" class=\"dataframe\">\n",
       "  <thead>\n",
       "    <tr style=\"text-align: right;\">\n",
       "      <th></th>\n",
       "      <th>국어</th>\n",
       "      <th>영어</th>\n",
       "      <th>수학</th>\n",
       "    </tr>\n",
       "  </thead>\n",
       "  <tbody>\n",
       "    <tr>\n",
       "      <th>A</th>\n",
       "      <td>82점</td>\n",
       "      <td>81점</td>\n",
       "      <td>77점</td>\n",
       "    </tr>\n",
       "    <tr>\n",
       "      <th>B</th>\n",
       "      <td>91점</td>\n",
       "      <td>95점</td>\n",
       "      <td>83점</td>\n",
       "    </tr>\n",
       "    <tr>\n",
       "      <th>C</th>\n",
       "      <td>78점</td>\n",
       "      <td>72점</td>\n",
       "      <td>88점</td>\n",
       "    </tr>\n",
       "    <tr>\n",
       "      <th>D</th>\n",
       "      <td>82점</td>\n",
       "      <td>87점</td>\n",
       "      <td>72점</td>\n",
       "    </tr>\n",
       "  </tbody>\n",
       "</table>\n",
       "</div>"
      ],
      "text/plain": [
       "    국어   영어   수학\n",
       "A  82점  81점  77점\n",
       "B  91점  95점  83점\n",
       "C  78점  72점  88점\n",
       "D  82점  87점  72점"
      ]
     },
     "execution_count": 19,
     "metadata": {},
     "output_type": "execute_result"
    }
   ],
   "source": [
    "# 실습에 쓰일 df 출력\n",
    "df"
   ]
  },
  {
   "cell_type": "code",
   "execution_count": 20,
   "metadata": {
    "colab": {
     "base_uri": "https://localhost:8080/",
     "height": 175
    },
    "id": "iB9DE3HVKbqC",
    "outputId": "34871fff-e28d-48fb-99d9-dd725ac390b5"
   },
   "outputs": [
    {
     "data": {
      "text/html": [
       "<div>\n",
       "<style scoped>\n",
       "    .dataframe tbody tr th:only-of-type {\n",
       "        vertical-align: middle;\n",
       "    }\n",
       "\n",
       "    .dataframe tbody tr th {\n",
       "        vertical-align: top;\n",
       "    }\n",
       "\n",
       "    .dataframe thead th {\n",
       "        text-align: right;\n",
       "    }\n",
       "</style>\n",
       "<table border=\"1\" class=\"dataframe\">\n",
       "  <thead>\n",
       "    <tr style=\"text-align: right;\">\n",
       "      <th></th>\n",
       "      <th>국어</th>\n",
       "      <th>영어</th>\n",
       "      <th>수학</th>\n",
       "    </tr>\n",
       "  </thead>\n",
       "  <tbody>\n",
       "    <tr>\n",
       "      <th>A</th>\n",
       "      <td>82</td>\n",
       "      <td>81</td>\n",
       "      <td>77</td>\n",
       "    </tr>\n",
       "    <tr>\n",
       "      <th>B</th>\n",
       "      <td>91</td>\n",
       "      <td>95</td>\n",
       "      <td>83</td>\n",
       "    </tr>\n",
       "    <tr>\n",
       "      <th>C</th>\n",
       "      <td>78</td>\n",
       "      <td>72</td>\n",
       "      <td>88</td>\n",
       "    </tr>\n",
       "    <tr>\n",
       "      <th>D</th>\n",
       "      <td>82</td>\n",
       "      <td>87</td>\n",
       "      <td>72</td>\n",
       "    </tr>\n",
       "  </tbody>\n",
       "</table>\n",
       "</div>"
      ],
      "text/plain": [
       "   국어  영어  수학\n",
       "A  82  81  77\n",
       "B  91  95  83\n",
       "C  78  72  88\n",
       "D  82  87  72"
      ]
     },
     "execution_count": 20,
     "metadata": {},
     "output_type": "execute_result"
    }
   ],
   "source": [
    "# applymap은 apply와 달리 데이터 프레임도 셀마다 함수를 적용한다\n",
    "df.applymap(lambda x: int(x[:-1]))"
   ]
  },
  {
   "cell_type": "code",
   "execution_count": 21,
   "metadata": {
    "colab": {
     "base_uri": "https://localhost:8080/",
     "height": 175
    },
    "id": "IyGl0LyvKeol",
    "outputId": "0d5fea7f-68a4-443a-a0fe-882fa25fdef1"
   },
   "outputs": [
    {
     "data": {
      "text/html": [
       "<div>\n",
       "<style scoped>\n",
       "    .dataframe tbody tr th:only-of-type {\n",
       "        vertical-align: middle;\n",
       "    }\n",
       "\n",
       "    .dataframe tbody tr th {\n",
       "        vertical-align: top;\n",
       "    }\n",
       "\n",
       "    .dataframe thead th {\n",
       "        text-align: right;\n",
       "    }\n",
       "</style>\n",
       "<table border=\"1\" class=\"dataframe\">\n",
       "  <thead>\n",
       "    <tr style=\"text-align: right;\">\n",
       "      <th></th>\n",
       "      <th>국어</th>\n",
       "      <th>영어</th>\n",
       "      <th>수학</th>\n",
       "    </tr>\n",
       "  </thead>\n",
       "  <tbody>\n",
       "    <tr>\n",
       "      <th>A</th>\n",
       "      <td>82</td>\n",
       "      <td>81</td>\n",
       "      <td>77</td>\n",
       "    </tr>\n",
       "    <tr>\n",
       "      <th>B</th>\n",
       "      <td>91</td>\n",
       "      <td>95</td>\n",
       "      <td>83</td>\n",
       "    </tr>\n",
       "    <tr>\n",
       "      <th>C</th>\n",
       "      <td>78</td>\n",
       "      <td>72</td>\n",
       "      <td>88</td>\n",
       "    </tr>\n",
       "    <tr>\n",
       "      <th>D</th>\n",
       "      <td>82</td>\n",
       "      <td>87</td>\n",
       "      <td>72</td>\n",
       "    </tr>\n",
       "  </tbody>\n",
       "</table>\n",
       "</div>"
      ],
      "text/plain": [
       "   국어  영어  수학\n",
       "A  82  81  77\n",
       "B  91  95  83\n",
       "C  78  72  88\n",
       "D  82  87  72"
      ]
     },
     "execution_count": 21,
     "metadata": {},
     "output_type": "execute_result"
    }
   ],
   "source": [
    "# 위 결과를 apply로 얻으려면 map 함수를 한번 더 사용해야 한다\n",
    "df.apply(lambda x: x.map(lambda y: int(y[:-1])))"
   ]
  },
  {
   "cell_type": "markdown",
   "metadata": {
    "id": "kAFLgW-8SeEr"
   },
   "source": [
    "<img src=https://i.ibb.co/2sMGLVz/10-02.png, width=600>"
   ]
  },
  {
   "cell_type": "markdown",
   "metadata": {
    "id": "LeiBisNvSho_"
   },
   "source": [
    "apply, map, applymap의 차이 참고 강의 링크 : https://youtu.be/upY7WRenFjo"
   ]
  },
  {
   "cell_type": "markdown",
   "metadata": {
    "id": "pBWoxgG8CYTf"
   },
   "source": [
    "## 3. 데이터 구조 바꾸기 스킬업"
   ]
  },
  {
   "cell_type": "markdown",
   "metadata": {
    "id": "ux3s5nqb47mm"
   },
   "source": [
    "> pandas explode\n",
    "\n",
    "<img src=https://i.ibb.co/XV1n3kJ/10-03.png, width=600>\n",
    "\n",
    "데이터프레임이나 시리즈의 셀안에 있는 리스트의 데이터를 확장하는 함수"
   ]
  },
  {
   "cell_type": "code",
   "execution_count": 22,
   "metadata": {
    "id": "MKd9G7gWCYlX"
   },
   "outputs": [],
   "source": [
    "# 실습 준비 코드\n",
    "import pandas as pd\n",
    "pd.options.display.max_rows = 6 # 판다스 버전업에 따라 6행만 출력의 바뀐 코드\n",
    "df1 = pd.DataFrame([[95, ['김판다', '강승주']], [92, '송중기']], \n",
    "                   columns=['점수', '이름'])\n",
    "df2 = pd.DataFrame([[95, '김판다/강승주'], [92, '송중기']], \n",
    "                   columns=['점수', '이름'])"
   ]
  },
  {
   "cell_type": "code",
   "execution_count": 23,
   "metadata": {
    "colab": {
     "base_uri": "https://localhost:8080/",
     "height": 112
    },
    "id": "mcQE-lZiZGnL",
    "outputId": "698b26f2-9cf3-4987-bab7-f42f8c0702bf"
   },
   "outputs": [
    {
     "data": {
      "text/html": [
       "<div>\n",
       "<style scoped>\n",
       "    .dataframe tbody tr th:only-of-type {\n",
       "        vertical-align: middle;\n",
       "    }\n",
       "\n",
       "    .dataframe tbody tr th {\n",
       "        vertical-align: top;\n",
       "    }\n",
       "\n",
       "    .dataframe thead th {\n",
       "        text-align: right;\n",
       "    }\n",
       "</style>\n",
       "<table border=\"1\" class=\"dataframe\">\n",
       "  <thead>\n",
       "    <tr style=\"text-align: right;\">\n",
       "      <th></th>\n",
       "      <th>점수</th>\n",
       "      <th>이름</th>\n",
       "    </tr>\n",
       "  </thead>\n",
       "  <tbody>\n",
       "    <tr>\n",
       "      <th>0</th>\n",
       "      <td>95</td>\n",
       "      <td>[김판다, 강승주]</td>\n",
       "    </tr>\n",
       "    <tr>\n",
       "      <th>1</th>\n",
       "      <td>92</td>\n",
       "      <td>송중기</td>\n",
       "    </tr>\n",
       "  </tbody>\n",
       "</table>\n",
       "</div>"
      ],
      "text/plain": [
       "   점수          이름\n",
       "0  95  [김판다, 강승주]\n",
       "1  92         송중기"
      ]
     },
     "execution_count": 23,
     "metadata": {},
     "output_type": "execute_result"
    }
   ],
   "source": [
    "# 실습에 쓰일 df1. df1은 셀에 리스트를 갖고 있다\n",
    "df1"
   ]
  },
  {
   "cell_type": "code",
   "execution_count": 24,
   "metadata": {
    "colab": {
     "base_uri": "https://localhost:8080/",
     "height": 143
    },
    "id": "jUwkKhY5C_y5",
    "outputId": "36e93c76-caf6-48a2-d84a-d1d4da234bc8"
   },
   "outputs": [
    {
     "data": {
      "text/html": [
       "<div>\n",
       "<style scoped>\n",
       "    .dataframe tbody tr th:only-of-type {\n",
       "        vertical-align: middle;\n",
       "    }\n",
       "\n",
       "    .dataframe tbody tr th {\n",
       "        vertical-align: top;\n",
       "    }\n",
       "\n",
       "    .dataframe thead th {\n",
       "        text-align: right;\n",
       "    }\n",
       "</style>\n",
       "<table border=\"1\" class=\"dataframe\">\n",
       "  <thead>\n",
       "    <tr style=\"text-align: right;\">\n",
       "      <th></th>\n",
       "      <th>점수</th>\n",
       "      <th>이름</th>\n",
       "    </tr>\n",
       "  </thead>\n",
       "  <tbody>\n",
       "    <tr>\n",
       "      <th>0</th>\n",
       "      <td>95</td>\n",
       "      <td>김판다</td>\n",
       "    </tr>\n",
       "    <tr>\n",
       "      <th>0</th>\n",
       "      <td>95</td>\n",
       "      <td>강승주</td>\n",
       "    </tr>\n",
       "    <tr>\n",
       "      <th>1</th>\n",
       "      <td>92</td>\n",
       "      <td>송중기</td>\n",
       "    </tr>\n",
       "  </tbody>\n",
       "</table>\n",
       "</div>"
      ],
      "text/plain": [
       "   점수   이름\n",
       "0  95  김판다\n",
       "0  95  강승주\n",
       "1  92  송중기"
      ]
     },
     "execution_count": 24,
     "metadata": {},
     "output_type": "execute_result"
    }
   ],
   "source": [
    "# explode 함수로 리스트의 데이터를 분리할 수 있다\n",
    "df1.explode('이름')"
   ]
  },
  {
   "cell_type": "code",
   "execution_count": 25,
   "metadata": {
    "colab": {
     "base_uri": "https://localhost:8080/",
     "height": 112
    },
    "id": "scy6bq08ZQUQ",
    "outputId": "26fc376d-7f9f-402a-9956-39d19f3ed75a"
   },
   "outputs": [
    {
     "data": {
      "text/html": [
       "<div>\n",
       "<style scoped>\n",
       "    .dataframe tbody tr th:only-of-type {\n",
       "        vertical-align: middle;\n",
       "    }\n",
       "\n",
       "    .dataframe tbody tr th {\n",
       "        vertical-align: top;\n",
       "    }\n",
       "\n",
       "    .dataframe thead th {\n",
       "        text-align: right;\n",
       "    }\n",
       "</style>\n",
       "<table border=\"1\" class=\"dataframe\">\n",
       "  <thead>\n",
       "    <tr style=\"text-align: right;\">\n",
       "      <th></th>\n",
       "      <th>점수</th>\n",
       "      <th>이름</th>\n",
       "    </tr>\n",
       "  </thead>\n",
       "  <tbody>\n",
       "    <tr>\n",
       "      <th>0</th>\n",
       "      <td>95</td>\n",
       "      <td>김판다/강승주</td>\n",
       "    </tr>\n",
       "    <tr>\n",
       "      <th>1</th>\n",
       "      <td>92</td>\n",
       "      <td>송중기</td>\n",
       "    </tr>\n",
       "  </tbody>\n",
       "</table>\n",
       "</div>"
      ],
      "text/plain": [
       "   점수       이름\n",
       "0  95  김판다/강승주\n",
       "1  92      송중기"
      ]
     },
     "execution_count": 25,
     "metadata": {},
     "output_type": "execute_result"
    }
   ],
   "source": [
    "# 왜 데이터에 리스트가 있는걸까? 보통의 경우 우리가 만드는 것이다\n",
    "df2"
   ]
  },
  {
   "cell_type": "code",
   "execution_count": null,
   "metadata": {
    "colab": {
     "base_uri": "https://localhost:8080/",
     "height": 143
    },
    "id": "uhC8wavZZXrX",
    "outputId": "06d37d31-4d9b-48a2-aba7-4562ad16c36c"
   },
   "outputs": [],
   "source": [
    "# 이름열의 /를 분리해서 리스트로 만들고 explode를 사용하면 전처리된다\n",
    "df2['이름'] = df2['이름'].str.split('/')\n",
    "df2.explode('이름')"
   ]
  },
  {
   "cell_type": "markdown",
   "metadata": {
    "id": "jNK4jhA1JCM5"
   },
   "source": [
    "**explode 함수 실습하기**\n",
    "\n",
    "작품으로 나열된 네이버 웹툰의 데이터를 이용해 작가 중심으로 해당 작가의 작품을 묶어보자\n",
    "\n",
    "네이버 웹툰 데이터 : https://raw.githubusercontent.com/panda-kim/csv_files/main/naver.csv"
   ]
  },
  {
   "cell_type": "code",
   "execution_count": null,
   "metadata": {
    "colab": {
     "base_uri": "https://localhost:8080/",
     "height": 298
    },
    "id": "LAQBeD_uJMaL",
    "outputId": "02713da5-fbe7-4e9b-97d7-c44335f7100d"
   },
   "outputs": [],
   "source": [
    "url = 'https://raw.githubusercontent.com/panda-kim/csv_files/main/naver.csv'\n",
    "df_ex1 = pd.read_csv(url, usecols=['title', 'author'])\n",
    "df_ex1"
   ]
  },
  {
   "cell_type": "code",
   "execution_count": null,
   "metadata": {
    "colab": {
     "base_uri": "https://localhost:8080/",
     "height": 298
    },
    "id": "THqIbSF7Jnq_",
    "outputId": "0538d8b7-b79a-4fb9-ad8b-f7840fda880b"
   },
   "outputs": [],
   "source": [
    "df_ex2 = df_ex1.copy()\n",
    "df_ex2['author'] = df_ex2['author'].str.split(' / ')\n",
    "df_ex2.explode('author').groupby('author', as_index=False)['title'].agg(' / '.join)"
   ]
  },
  {
   "cell_type": "code",
   "execution_count": null,
   "metadata": {
    "colab": {
     "base_uri": "https://localhost:8080/",
     "height": 35
    },
    "id": "JSQXvwcCxkDv",
    "outputId": "d298caf0-a536-42f8-a0df-de2eb1a1dc1e"
   },
   "outputs": [],
   "source": [
    "# join 함수는 시리즈의 문자열을 합치는 함수이다\n",
    "s = pd.Series(['a', 'bc'])\n",
    "'/'.join(s)"
   ]
  },
  {
   "cell_type": "markdown",
   "metadata": {
    "id": "iUV2bXxFj_p_"
   },
   "source": [
    "## 4. 시각화 스킬업"
   ]
  },
  {
   "cell_type": "markdown",
   "metadata": {
    "id": "5xKQZU3F9Njg"
   },
   "source": [
    "**파이썬 시각화를 학습할 때의 문제점**\n",
    "- 대부분 시각화 라이브러리를 제대로 쓰려면 matplotlib부터 배워야 한다\n",
    "- 그래서 정작 그래프는 그리지 않는 matplotlib만 배우고 끝나는 경우가 많다"
   ]
  },
  {
   "cell_type": "markdown",
   "metadata": {
    "id": "o-TbAsxJB7Cf"
   },
   "source": [
    "**판다스의 시각화**\n",
    "- 데이터 프레임에 바로 함수를 적용해 간단한 코드로 시각화가 가능한 라이브러리들이 많다\n",
    "\n",
    "  ex) seaborn, pandas-bokeh \n",
    "- 다만 꼭 matplotlib가 아니더라도 제대로 쓰려면 여전히 기반 라이브러리를  배워야 한다\n",
    "\n",
    "  ex) seaborn은 matplotlib 기반, pandas-bokeh는 bokeh 기반\n",
    "\n",
    "→ 기반 라이브러리를 많이 써야 할 수록 판다스 시각화의 간결함의 장점이 사라진다"
   ]
  },
  {
   "cell_type": "markdown",
   "metadata": {
    "id": "aTKArr0kC_ne"
   },
   "source": [
    "**해결책**\n",
    "- 데이터 프레임에 바로 함수를 적용해 간결한 코드로 판다스의 시각화가 가능하며 \n",
    "- 가급적 기반 라이브러리를 사용하고 않고 해당 판다스 시각화 라이브러리 자체로 해결이 가능\n",
    "- 반응형 그래프를 그릴 수 있는 라이브러리\n",
    "\n",
    "위와 같은 라이브러리라면 간결하고 예쁜 시각화가 손쉽게 가능하다\n",
    "\n",
    "-> pyechart 기반의 pandasecharts를 배워보자"
   ]
  },
  {
   "cell_type": "markdown",
   "metadata": {
    "id": "ThfPVyQZkNsE"
   },
   "source": [
    "**pyecharts**\n",
    "\n",
    "echarts를 python에서 사용할 수 있게 해주는 라이브러리\n",
    "\n",
    "- 기본값이 예쁘다\n",
    "- 반응형이다\n",
    "\n",
    "pyecharts 사이트 링크 : https://pyecharts.org/#/en-us/\n",
    "\n",
    "갤러리 링크 : https://gallery.pyecharts.org/#/README_EN\n",
    "\n",
    "pyecharts 설치 (1.9.1버전 설치)\n",
    "\n",
    "```python\n",
    "!pip install --upgrade pyecharts==1.9.1\n",
    "```\n",
    "\n",
    "**pandasecharts**\n",
    "\n",
    "데이터 프레임에 pyecharts를 쉽게 사용하게 해주는 라이브러리\n",
    "\n",
    "\n",
    "\n",
    "\n",
    "pandasecharts 설치\n",
    "\n",
    "```python\n",
    "!pip install pandasecharts\n",
    "```\n"
   ]
  },
  {
   "cell_type": "code",
   "execution_count": null,
   "metadata": {
    "colab": {
     "base_uri": "https://localhost:8080/",
     "height": 0
    },
    "id": "iZjTTlGC-rww",
    "outputId": "58dd55d6-fca2-444e-c47c-757ad18edf22"
   },
   "outputs": [],
   "source": [
    "# pyecharts 1.9.1 설치\n",
    "!pip install --upgrade pyecharts==1.9.1"
   ]
  },
  {
   "cell_type": "code",
   "execution_count": null,
   "metadata": {
    "colab": {
     "base_uri": "https://localhost:8080/",
     "height": 0
    },
    "id": "6NX7oacE-108",
    "outputId": "51386676-ac48-4a8f-e272-7d520c74fc73"
   },
   "outputs": [],
   "source": [
    "# pandasecharts 설치\n",
    "!pip install pandasecharts"
   ]
  },
  {
   "cell_type": "code",
   "execution_count": null,
   "metadata": {
    "id": "dqxkbykIkAKX"
   },
   "outputs": [],
   "source": [
    "# 실습 준비코드\n",
    "import pandas as pd\n",
    "from pyecharts.globals import ThemeType\n",
    "from pyecharts.charts import Timeline\n",
    "from pandasecharts import echart\n",
    "import IPython\n",
    "data1 = [['강승주', 98, 72], ['김판다', 89, 91], \n",
    "         ['박효신', 77, 78], ['손승연', 62, 93]]\n",
    "data2 = [['강승주', 72, 79], ['김판다', 83, 81], \n",
    "         ['박효신', 74, 87], ['손승연', 92, 89]]\n",
    "df1 = pd.DataFrame(data1, columns=['이름', '국어', '영어'])\n",
    "df2 = pd.DataFrame(data2, columns=['이름', '국어', '영어'])"
   ]
  },
  {
   "cell_type": "code",
   "execution_count": null,
   "metadata": {
    "colab": {
     "base_uri": "https://localhost:8080/",
     "height": 537
    },
    "id": "aVlo8D4PkdjL",
    "outputId": "fc2f387b-660a-4c91-ac9f-4e18c5cf6be5"
   },
   "outputs": [],
   "source": [
    "# bar 그래프 그리기(render.html 파일로 저장)\n",
    "df1.echart.bar(x='이름', ys=['국어', '영어']).render()\n",
    "IPython.display.HTML(filename='/content/render.html') # 코랩에서 출력"
   ]
  },
  {
   "cell_type": "code",
   "execution_count": null,
   "metadata": {
    "colab": {
     "base_uri": "https://localhost:8080/",
     "height": 537
    },
    "id": "ZNZ8QXx_Eqgu",
    "outputId": "24ba0536-1d94-4e25-b12f-e2aef3042ca3"
   },
   "outputs": [],
   "source": [
    "# 저장 파일명 바꾸기\n",
    "df1.echart.bar(x='이름', ys=['국어', '영어']).render('파일명.html')\n",
    "IPython.display.HTML(filename='/content/파일명.html') # 코랩에서 출력"
   ]
  },
  {
   "cell_type": "code",
   "execution_count": null,
   "metadata": {
    "colab": {
     "base_uri": "https://localhost:8080/",
     "height": 537
    },
    "id": "1RJp0KrEEcc_",
    "outputId": "ca89a6be-efc2-43a6-92cd-d2f238f66084"
   },
   "outputs": [],
   "source": [
    "# 저장 않고 노트북으로 출력(코랩에서는 되지 않는다)\n",
    "df1.echart.bar(x='이름', ys=['국어', '영어']).render_notebook()"
   ]
  },
  {
   "cell_type": "code",
   "execution_count": null,
   "metadata": {
    "colab": {
     "base_uri": "https://localhost:8080/",
     "height": 417
    },
    "id": "QlHkDabUCAKy",
    "outputId": "55edac15-d1ea-44c9-f235-bd7fe18ac239"
   },
   "outputs": [],
   "source": [
    "# 크기 변경\n",
    "df1.echart.bar(x='이름', ys=['국어', '영어'], figsize=(600,400)).render()\n",
    "IPython.display.HTML(filename='/content/render.html') # 코랩에서 출력"
   ]
  },
  {
   "cell_type": "code",
   "execution_count": null,
   "metadata": {
    "colab": {
     "base_uri": "https://localhost:8080/",
     "height": 417
    },
    "id": "8FqPSfF8L_uc",
    "outputId": "f749d3be-fa48-476a-bc39-861d7ff17fdd"
   },
   "outputs": [],
   "source": [
    "# 국어열의 값에 따라 정렬\n",
    "df1.echart.bar(x='이름', ys=['국어', '영어'], sort='국어', figsize=(600,400)).render()\n",
    "IPython.display.HTML(filename='/content/render.html') # 코랩에서 출력"
   ]
  },
  {
   "cell_type": "code",
   "execution_count": null,
   "metadata": {
    "colab": {
     "base_uri": "https://localhost:8080/",
     "height": 417
    },
    "id": "jN1OGKhxCGDL",
    "outputId": "c123c210-9c92-4943-852f-01bafa90cb9b"
   },
   "outputs": [],
   "source": [
    "# 제목 생성\n",
    "df1.echart.bar(x='이름', ys=['국어', '영어'], title='중간고사', \n",
    "               figsize=(600,400)).render()\n",
    "IPython.display.HTML(filename='/content/render.html') # 코랩에서 출력"
   ]
  },
  {
   "cell_type": "code",
   "execution_count": null,
   "metadata": {
    "colab": {
     "base_uri": "https://localhost:8080/",
     "height": 417
    },
    "id": "nCZp-U4HCLjg",
    "outputId": "9da2bb49-abb8-4875-a7af-1221439da1ed"
   },
   "outputs": [],
   "source": [
    "# 소제목(subtitle) 생성\n",
    "df1.echart.bar(x='이름', ys=['국어', '영어'], title='중간고사', \n",
    "               subtitle='누가누가잘했나', figsize=(600,400)).render()\n",
    "IPython.display.HTML(filename='/content/render.html') # 코랩에서 출력"
   ]
  },
  {
   "cell_type": "code",
   "execution_count": null,
   "metadata": {
    "colab": {
     "base_uri": "https://localhost:8080/",
     "height": 417
    },
    "id": "82aimpRH3fm3",
    "outputId": "aa561537-e362-4adb-f2c7-093ce1d6ac1b"
   },
   "outputs": [],
   "source": [
    "# 수치 표현하기\n",
    "df1.echart.bar(x='이름', ys=['국어', '영어'], title='중간고사', \n",
    "               subtitle='누가누가잘했나', label_show=True, figsize=(600,400)).render()\n",
    "IPython.display.HTML(filename='/content/render.html') # 코랩에서 출력"
   ]
  },
  {
   "cell_type": "markdown",
   "metadata": {
    "id": "wvZRgUHeHk5j"
   },
   "source": [
    "**pyecharts 테마**\n",
    "- LIGHT\n",
    "- DARK\n",
    "- CHALK\n",
    "- ESSOS\n",
    "- INFOGRAPHIC\n",
    "- MACARONS\n",
    "- PURPLE_PASSION\n",
    "- ROMA\n",
    "- ROMANTIC\n",
    "- SHINE\n",
    "- VINTAGE\n",
    "\n",
    "다음 링크로 테마를 확인해볼 수 있다: https://pyecharts.org/#/en-us/themes?id=theme-style"
   ]
  },
  {
   "cell_type": "code",
   "execution_count": null,
   "metadata": {
    "colab": {
     "base_uri": "https://localhost:8080/",
     "height": 417
    },
    "id": "loVW1AfRFmQc",
    "outputId": "4118e4c7-ddde-4b97-ab6d-e66469d28403"
   },
   "outputs": [],
   "source": [
    "# 테마 변경\n",
    "df1.echart.bar(x='이름', ys=['국어', '영어'], title='중간고사', figsize=(600,400), \n",
    "               subtitle='누가누가 잘했나', theme=ThemeType.DARK).render()\n",
    "IPython.display.HTML(filename='/content/render.html')"
   ]
  },
  {
   "cell_type": "code",
   "execution_count": null,
   "metadata": {
    "colab": {
     "base_uri": "https://localhost:8080/",
     "height": 417
    },
    "id": "_JdwEhXzzw8e",
    "outputId": "8de64b35-80b1-4229-dc32-6c0bd261ae45"
   },
   "outputs": [],
   "source": [
    "# 함수 및 인자 정리\n",
    "(df1\n",
    " .echart.bar(x='이름', \n",
    "             ys=['국어', '영어'],\n",
    "             sort='영어',  \n",
    "             title='중간고사', \n",
    "             subtitle='결과', \n",
    "             figsize=(600,400), \n",
    "             theme=ThemeType.DARK\n",
    "             )\n",
    " .render()\n",
    " )\n",
    "IPython.display.HTML(filename='/content/render.html')"
   ]
  },
  {
   "cell_type": "code",
   "execution_count": null,
   "metadata": {
    "colab": {
     "base_uri": "https://localhost:8080/",
     "height": 417
    },
    "id": "_-OjPhHnFA44",
    "outputId": "e3758677-2c8d-4053-8fb9-bfc04e5f01e3"
   },
   "outputs": [],
   "source": [
    "# 타임라인\n",
    "tl = Timeline({'width':'600px', 'height':'400px'})\n",
    "bar1 = df1.echart.bar(x='이름', ys=['국어', '영어'], title='1학기', subtitle='중간고사')\n",
    "bar2 = df2.echart.bar(x='이름', ys=['국어', '영어'], title='1학기', subtitle='기말고사')\n",
    "tl.add(bar1, '중간고사').add(bar2, '기말고사').render()\n",
    "IPython.display.HTML(filename='/content/render.html')"
   ]
  },
  {
   "cell_type": "markdown",
   "metadata": {
    "id": "xrzXFba0s9Mo"
   },
   "source": [
    "막대 그래프 외의 그래프를 pandasecharts로 그리고 싶다면 링크를 참조하라\n",
    "\n",
    "링크 : https://caoqinping.com/2021/12/17/pandasecharts%E4%BD%BF%E7%94%A8%E7%A4%BA%E4%BE%8B/"
   ]
  }
 ],
 "metadata": {
  "colab": {
   "provenance": []
  },
  "kernelspec": {
   "display_name": "Python 3 (ipykernel)",
   "language": "python",
   "name": "python3"
  },
  "language_info": {
   "codemirror_mode": {
    "name": "ipython",
    "version": 3
   },
   "file_extension": ".py",
   "mimetype": "text/x-python",
   "name": "python",
   "nbconvert_exporter": "python",
   "pygments_lexer": "ipython3",
   "version": "3.10.9"
  }
 },
 "nbformat": 4,
 "nbformat_minor": 1
}
